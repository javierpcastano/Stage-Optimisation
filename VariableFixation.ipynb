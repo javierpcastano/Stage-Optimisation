{
 "cells": [
  {
   "cell_type": "markdown",
   "id": "3a9a3bc8",
   "metadata": {},
   "source": [
    "# Fixation des Variables\n",
    "\n",
    "### Transcodage de C a Julia du code du fichier \"pqe_bb.c\""
   ]
  },
  {
   "cell_type": "markdown",
   "id": "4cb73cfc",
   "metadata": {},
   "source": [
    "Méthodes auxilières"
   ]
  },
  {
   "cell_type": "code",
   "execution_count": 3,
   "id": "17eb8347",
   "metadata": {},
   "outputs": [
    {
     "data": {
      "text/plain": [
       "compute_first_ub (generic function with 1 method)"
      ]
     },
     "metadata": {},
     "output_type": "display_data"
    }
   ],
   "source": [
    "function compute_first_ub(c::Vector{Float64}, Q::Matrix{Float64}, a::Vector{Float64}, b::Float64)\n",
    "    n = length(c)\n",
    "    cluster_size = 5\n",
    "    nb_clusters = div(n, cluster_size)\n",
    "    UB = 0.0\n",
    "\n",
    "    for cluster_id in 0:(nb_clusters-1)\n",
    "        # Id du cluster\n",
    "        idx = (cluster_id * cluster_size + 1):(cluster_id * cluster_size + cluster_size) # Liste d'indices du cluster donné\n",
    "        c_cluster = c[idx]\n",
    "        Q_cluster = Q[idx, idx]\n",
    "        a_cluster = a[idx]  \n",
    "\n",
    "        best_val = 0 #-Inf # - Infini mieux au cas ou on a des valeurs négatives\n",
    "\n",
    "        # Enumérer les 32 combinaisons binaires\n",
    "        for k in 0:31\n",
    "            x = reverse(digits(k, base=2, pad=5))  # vector binair\n",
    "            x_vec = collect(x)                     # convertir le vecteur en Array\n",
    "\n",
    "            # Vérification des contraintes\n",
    "            total_weight = 0\n",
    "            for i in 1:cluster_size\n",
    "                total_weight = total_weight + a_cluster[i] * x_vec[i]\n",
    "            end\n",
    "            if total_weight <= b\n",
    "                # Evaluer la fonction objectif (linéal + quadratique)\n",
    "                val = 0\n",
    "                for i in 1:cluster_size\n",
    "                    val = val + c_cluster[i] * x_vec[i] # Somme (c_i * x_i)\n",
    "                end\n",
    "                 for i in 1:cluster_size-1\n",
    "                    for j in (i+1):cluster_size\n",
    "                        val += Q_cluster[i, j] * x_vec[i] * x_vec[j] # Somme (c_ij * x_i * x_j)\n",
    "                    end\n",
    "                end\n",
    "\n",
    "                best_val = max(best_val, val)\n",
    "            end\n",
    "        end\n",
    "\n",
    "        UB += best_val\n",
    "    end\n",
    "\n",
    "    return UB\n",
    "end\n",
    "\n"
   ]
  },
  {
   "cell_type": "code",
   "execution_count": 12,
   "id": "a8366139",
   "metadata": {},
   "outputs": [],
   "source": [
    "struct VarFixInfo\n",
    "    existe_info::Bool   # une amélioration a été essayé?\n",
    "    xi_binf::Int        # nouvelle borne inferieur en x_i (0 or 1)\n",
    "    xi_bsup::Int        # nouvelle borne supérieure en  x_i (0 or 1)\n",
    "end"
   ]
  },
  {
   "cell_type": "code",
   "execution_count": 5,
   "id": "b147d639",
   "metadata": {},
   "outputs": [
    {
     "data": {
      "text/plain": [
       "rewrite_problem (generic function with 1 method)"
      ]
     },
     "metadata": {},
     "output_type": "display_data"
    }
   ],
   "source": [
    "function rewrite_problem(\n",
    "    n::Int, m::Int,\n",
    "    c::Vector{Float64}, d::Vector{Float64},\n",
    "    a::Matrix{Float64}, b::Vector{Float64},\n",
    "    u::Vector{Int},\n",
    "    varfix::Vector{VarFixInfo},\n",
    "    I::Vector{Int},\n",
    "    to0::Bool\n",
    ")::Float64\n",
    "    constant = 0.0\n",
    "    for i in I\n",
    "        # fixe x_i = v\n",
    "        v = to0 ? 0 : 1\n",
    "        varfix[i].existe_info = true\n",
    "        varfix[i].xi_binf = v\n",
    "        varfix[i].xi_bsup = v\n",
    "\n",
    "        # Elimine la variable i du probleme: ajoute sa contribution a la constante\n",
    "        constant += c[i]*v\n",
    "        for j in 1:n\n",
    "            if i != j\n",
    "                constant += d[min(i,j), max(i,j)] * v * (u[j] > 0 ? 1 : 0)\n",
    "            end\n",
    "        end\n",
    "\n",
    "        u[i] = 0\n",
    "        for j in 1:m\n",
    "            b[j] -= a[j,i]*v\n",
    "            a[j,i] = 0.0\n",
    "        end\n",
    "        c[i] = 0.0\n",
    "        for j in 1:n\n",
    "            d[min(i,j), max(i,j)] = 0.0\n",
    "        end\n",
    "    end\n",
    "    return constant\n",
    "end"
   ]
  },
  {
   "cell_type": "code",
   "execution_count": 6,
   "id": "0c062896",
   "metadata": {},
   "outputs": [
    {
     "data": {
      "text/plain": [
       "calcul_borne2"
      ]
     },
     "metadata": {},
     "output_type": "display_data"
    }
   ],
   "source": [
    "\"\"\"\n",
    "    calcul_borne2(c,Q,a,b) -> ub\n",
    "\n",
    "Compute the Lagrangian bound2 for the full problem via compute_first_ub.\n",
    "\"\"\"\n",
    "function calcul_borne2(\n",
    "    c::Vector{Float64},\n",
    "    Q::Matrix{Float64},\n",
    "    a::Vector{Float64},\n",
    "    b::Float64\n",
    ")::Float64\n",
    "    return compute_first_ub(c, Q, a, b)\n",
    "end"
   ]
  },
  {
   "cell_type": "code",
   "execution_count": 7,
   "id": "c692fcf0",
   "metadata": {},
   "outputs": [
    {
     "data": {
      "text/plain": [
       "calcul_borne2_I"
      ]
     },
     "metadata": {},
     "output_type": "display_data"
    }
   ],
   "source": [
    "\"\"\"\n",
    "    calcul_borne2_I(c,Q,a,b,I) -> ub\n",
    "\n",
    "Rewrite x[I]=0, then call calcul_borne2 on the reduced system and\n",
    "add back the constant term.\n",
    "\"\"\"\n",
    "function calcul_borne2_I(\n",
    "    c::Vector{Float64},\n",
    "    Q::Matrix{Float64},\n",
    "    a::Vector{Float64},\n",
    "    b::Float64,\n",
    "    I::Vector{Int}\n",
    ")::Float64\n",
    "    # fixe to 0\n",
    "    c2, Q2, a2, b2, const0 = rewrite_problem(c, Q, a, b, I, 0)\n",
    "    ub2 = calcul_borne2(c2, Q2, a2, b2)\n",
    "    return ub2 + const0\n",
    "end"
   ]
  },
  {
   "cell_type": "markdown",
   "id": "2b872b4c",
   "metadata": {},
   "source": [
    "Fixations des variables a 0"
   ]
  },
  {
   "cell_type": "code",
   "execution_count": 8,
   "id": "af562a30",
   "metadata": {},
   "outputs": [
    {
     "data": {
      "text/plain": [
       "fix_variables_0"
      ]
     },
     "metadata": {},
     "output_type": "display_data"
    }
   ],
   "source": [
    "\"\"\"\n",
    "    fix_variables_0(n, m, c, d, a, b, u, x_inf, bound_inf, dual_mul, varfix;\n",
    "                    packet_size=2)\n",
    "\n",
    "Scans variables with u[i]==1 ∧ x_inf[i]==0 in packets of `packet_size`.\n",
    "For each packet I:\n",
    "  - compute bound2_I;\n",
    "  - if bound2_I < bound_inf, fix all i∈I to 0 in `varfix`.\n",
    "\"\"\"\n",
    "function fix_variables_0(\n",
    "    n::Int, m::Int,\n",
    "    c::Vector{Float64}, d::Matrix{Float64},\n",
    "    a::Matrix{Float64}, b::Vector{Float64},\n",
    "    u::Vector{Int}, x_inf::Vector{Float64},\n",
    "    bound_inf::Float64,\n",
    "    dual_mul::Vector{Float64},\n",
    "    varfix::Vector{VarFixInfo};\n",
    "    packet_size::Int=2\n",
    ")\n",
    "    I = Int[]\n",
    "    i = 1\n",
    "    while true\n",
    "        empty(I)\n",
    "        while i ≤ n && length(I) < packet_size\n",
    "            if u[i]==1 && abs(x_inf[i]) < 1e-9\n",
    "                push(I, i)\n",
    "            end\n",
    "            i += 1\n",
    "        end\n",
    "        isempty(I) && break\n",
    "\n",
    "        b2 = Ref(0.0)\n",
    "        y_tmp = zeros(Float64, m)\n",
    "        calcul_borne2_I(n,m,c,d,a,b,u,dual_mul,I,b2,y_tmp)\n",
    "        if b2[] < bound_inf\n",
    "            for ii in I\n",
    "                varfix[ii].existe_info = true\n",
    "                varfix[ii].xi_binf = 0\n",
    "                varfix[ii].xi_bsup = 0\n",
    "            end\n",
    "        end\n",
    "    end\n",
    "end"
   ]
  },
  {
   "cell_type": "markdown",
   "id": "8a47e431",
   "metadata": {},
   "source": [
    "Fixations des variables a 1"
   ]
  },
  {
   "cell_type": "code",
   "execution_count": 11,
   "id": "5df1fff1",
   "metadata": {},
   "outputs": [
    {
     "data": {
      "text/plain": [
       "fix_variables_01"
      ]
     },
     "metadata": {},
     "output_type": "display_data"
    }
   ],
   "source": [
    "\"\"\"\n",
    "    fix_variables_01(n,m,c,d,a,b,u,x_inf,bound_inf,dual_mul,varfix)\n",
    "\n",
    "For each i with u[i]==1 ∧ not yet fixed:\n",
    "  - try fix to 0: bound2_{i} < bound_inf ⇒ confirm x_i=0.\n",
    "  - else try fix to 1 similarly.\n",
    "\"\"\"\n",
    "function fix_variables_01(\n",
    "    n::Int, m::Int,\n",
    "    c::Vector{Float64}, d::Matrix{Float64},\n",
    "    a::Matrix{Float64}, b::Vector{Float64},\n",
    "    u::Vector{Int}, x_inf::Vector{Float64},\n",
    "    bound_inf::Float64,\n",
    "    dual_mul::Vector{Float64},\n",
    "    varfix::Vector{VarFixInfo}\n",
    ")\n",
    "    for i in 1:n\n",
    "        if u[i]==1 && !varfix[i].existe_info\n",
    "            # essaye x_i=0\n",
    "            b2 = Ref(0.0); y_tmp = zeros(Float64, m)\n",
    "            calcul_borne2_I(n,m,c,d,a,b,u,dual_mul,[i],b2,y_tmp)\n",
    "            if b2[] < bound_inf\n",
    "                varfix[i].existe_info = true\n",
    "                varfix[i].xi_binf = 0\n",
    "                varfix[i].xi_bsup = 0\n",
    "                continue\n",
    "            end\n",
    "            # essaye x_i=1\n",
    "            # réecrit le sous-problème en forcant i→1:\n",
    "            const_term = rewrite_problem(n,m,c,d,a,b,u,varfix,[i],false)\n",
    "            calcul_borne2(n,m,c,d,a,b,u,dual_mul,b2,y_tmp)\n",
    "            b2[] += const_term\n",
    "            if b2[] < bound_inf\n",
    "                varfix[i].existe_info = true\n",
    "                varfix[i].xi_binf = 1\n",
    "                varfix[i].xi_bsup = 1\n",
    "                continue\n",
    "            end\n",
    "            # Si les deux rattent, on fixe pas\n",
    "            \n",
    "        end\n",
    "    end\n",
    "end"
   ]
  },
  {
   "cell_type": "code",
   "execution_count": 10,
   "id": "fec74b85",
   "metadata": {},
   "outputs": [],
   "source": []
  },
  {
   "cell_type": "code",
   "execution_count": 35,
   "id": "483e36af",
   "metadata": {},
   "outputs": [],
   "source": []
  },
  {
   "cell_type": "code",
   "execution_count": 36,
   "id": "111b172e",
   "metadata": {},
   "outputs": [],
   "source": []
  },
  {
   "cell_type": "code",
   "execution_count": 37,
   "id": "fbfa6f6c",
   "metadata": {},
   "outputs": [],
   "source": []
  },
  {
   "cell_type": "code",
   "execution_count": 38,
   "id": "d9080777",
   "metadata": {},
   "outputs": [],
   "source": []
  },
  {
   "cell_type": "code",
   "execution_count": null,
   "id": "61d2b145",
   "metadata": {},
   "outputs": [],
   "source": []
  }
 ],
 "metadata": {
  "kernelspec": {
   "display_name": "Julia 1.10.3",
   "language": "julia",
   "name": "julia-1.10"
  },
  "language_info": {
   "file_extension": ".jl",
   "mimetype": "application/julia",
   "name": "julia",
   "version": "1.10.3"
  }
 },
 "nbformat": 4,
 "nbformat_minor": 5
}
