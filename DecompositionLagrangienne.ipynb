{
 "cells": [
  {
   "cell_type": "markdown",
   "id": "b4ad05ae",
   "metadata": {},
   "source": [
    "# Fonction Upper Bound \n",
    "\n",
    "On divise nos variables en clusters et en ordre, puis on realise une énumération pour chaque cluster (32 possibilités pour chaque cluster)."
   ]
  },
  {
   "cell_type": "code",
   "execution_count": 1,
   "id": "a12e3cea",
   "metadata": {},
   "outputs": [
    {
     "data": {
      "text/plain": [
       "compute_first_ub (generic function with 1 method)"
      ]
     },
     "metadata": {},
     "output_type": "display_data"
    }
   ],
   "source": [
    "function compute_first_ub(c::Vector{Float64}, Q::Matrix{Float64}, a::Vector{Float64}, b::Float64)\n",
    "    n = length(c)\n",
    "    cluster_size = 5\n",
    "    nb_clusters = div(n, cluster_size)\n",
    "    UB = 0.0\n",
    "\n",
    "    for cluster_id in 0:(nb_clusters-1)\n",
    "        # Id du cluster\n",
    "        idx = (cluster_id * cluster_size + 1):(cluster_id * cluster_size + cluster_size) # Liste d'indices du cluster donné\n",
    "        c_cluster = c[idx]\n",
    "        Q_cluster = Q[idx, idx]\n",
    "        a_cluster = a[idx]  \n",
    "\n",
    "        best_val = 0 #-Inf # - Infini mieux au cas ou on a des valeurs négatives\n",
    "\n",
    "        # Enumérer les 32 combinaisons binaires\n",
    "        for k in 0:31\n",
    "            x = reverse(digits(k, base=2, pad=5))  # vector binair\n",
    "            x_vec = collect(x)                     # convertir le vecteur en Array\n",
    "\n",
    "            # Vérification des contraintes\n",
    "            total_weight = 0\n",
    "            for i in 1:cluster_size\n",
    "                total_weight = total_weight + a_cluster[i] * x_vec[i]\n",
    "            end\n",
    "            if total_weight <= b\n",
    "                # Evaluer la fonction objectif (linéal + quadratique)\n",
    "                val = 0\n",
    "                for i in 1:cluster_size\n",
    "                    val = val + c_cluster[i] * x_vec[i] # Somme (c_i * x_i)\n",
    "                end\n",
    "                 for i in 1:cluster_size-1\n",
    "                    for j in (i+1):cluster_size\n",
    "                        val += Q_cluster[i, j] * x_vec[i] * x_vec[j] # Somme (c_ij * x_i * x_j)\n",
    "                    end\n",
    "                end\n",
    "\n",
    "                best_val = max(best_val, val)\n",
    "            end\n",
    "        end\n",
    "\n",
    "        UB += best_val\n",
    "    end\n",
    "\n",
    "    return UB\n",
    "end\n",
    "\n"
   ]
  },
  {
   "cell_type": "markdown",
   "id": "6eb6ce48",
   "metadata": {},
   "source": [
    "### Exemples"
   ]
  },
  {
   "cell_type": "code",
   "execution_count": 2,
   "id": "235633cc",
   "metadata": {},
   "outputs": [
    {
     "name": "stdout",
     "output_type": "stream",
     "text": [
      "Resultat espéré: 67\n",
      "Resultat: 67.0\n"
     ]
    }
   ],
   "source": [
    "c = [1.0, 2.0, 3.0, 4.0, 5.0, 6.0 , 7.0, 8.0, 9.0, 10.0]\n",
    "\n",
    "Q = zeros(10, 10)\n",
    "Q[1,2] = Q[2,1] = 1\n",
    "Q[2,3] = Q[3,2] = 1\n",
    "Q[3,4] = Q[4,3] = 1\n",
    "Q[4,5] = Q[5,4] = 1\n",
    "Q[6,7] = Q[7,6] = 2\n",
    "Q[7,8] = Q[8,7] = 2\n",
    "Q[8,9] = Q[9,8] = 2\n",
    "Q[9,10] = Q[10,9] = 2\n",
    "\n",
    "a = [1.0, 1.0, 1.0, 1.0, 1.0, 1.0, 1.0, 1.0, 1.0, 1.0]\n",
    "\n",
    "b = 5.0\n",
    "\n",
    "ub = compute_first_ub(c, Q, a, b)\n",
    "println(\"Resultat espéré: 67\")\n",
    "println(\"Resultat: \", ub)"
   ]
  },
  {
   "cell_type": "markdown",
   "id": "64e21478",
   "metadata": {},
   "source": [
    "Énumération a la main, en divisan les variables en clusters:"
   ]
  },
  {
   "cell_type": "code",
   "execution_count": 3,
   "id": "a0611983",
   "metadata": {},
   "outputs": [
    {
     "name": "stdout",
     "output_type": "stream",
     "text": [
      "CLUSTER 1\n",
      "  Meilleur solution: [1, 1, 1, 1, 1]\n",
      "  Valeur totale: 19.0\n",
      "\n",
      "CLUSTER 2\n",
      "  Meilleur solution : [1, 1, 1, 1, 1]\n",
      "  Valeur totale: 48.0\n",
      "\n",
      "UB total = 67.0\n"
     ]
    }
   ],
   "source": [
    "c1 = [1, 2, 3, 4, 5]\n",
    "a1 = [1, 1, 1, 1, 1]\n",
    "Q1 = zeros(5, 5)\n",
    "Q1[1,2] = Q1[2,1] = 1\n",
    "Q1[2,3] = Q1[3,2] = 1\n",
    "Q1[3,4] = Q1[4,3] = 1\n",
    "Q1[4,5] = Q1[5,4] = 1\n",
    "b = 5\n",
    "\n",
    "best_val1 = -Inf\n",
    "best_sol1 = []\n",
    "\n",
    "for k in 0:31\n",
    "    x = reverse(digits(k, base=2, pad=5))\n",
    "    x_vec = collect(x)\n",
    "\n",
    "    weight = sum(a1[i] * x_vec[i] for i in 1:5)\n",
    "    if weight <= b\n",
    "        val = sum(c1[i] * x_vec[i] for i in 1:5)\n",
    "        for i in 1:4, j in (i+1):5\n",
    "            val += Q1[i,j] * x_vec[i] * x_vec[j]\n",
    "        end\n",
    "\n",
    "        if val > best_val1\n",
    "            best_val1 = val\n",
    "            best_sol1 = copy(x_vec)\n",
    "        end\n",
    "    end\n",
    "end\n",
    "\n",
    "println(\"CLUSTER 1\")\n",
    "println(\"  Meilleur solution: \", best_sol1)\n",
    "println(\"  Valeur totale: \", best_val1)\n",
    "\n",
    "c2 = [6, 7, 8, 9, 10]\n",
    "a2 = [1, 1, 1, 1, 1]\n",
    "Q2 = zeros(5, 5)\n",
    "Q2[1,2] = Q2[2,1] = 2\n",
    "Q2[2,3] = Q2[3,2] = 2\n",
    "Q2[3,4] = Q2[4,3] = 2\n",
    "Q2[4,5] = Q2[5,4] = 2\n",
    "\n",
    "best_val2 = -Inf\n",
    "best_sol2 = []\n",
    "\n",
    "for k in 0:31\n",
    "    x = reverse(digits(k, base=2, pad=5))\n",
    "    x_vec = collect(x)\n",
    "\n",
    "    weight = sum(a2[i] * x_vec[i] for i in 1:5)\n",
    "    if weight <= b\n",
    "        val = sum(c2[i] * x_vec[i] for i in 1:5)\n",
    "        for i in 1:4, j in (i+1):5\n",
    "            val += Q2[i,j] * x_vec[i] * x_vec[j]\n",
    "        end\n",
    "\n",
    "        if val > best_val2\n",
    "            best_val2 = val\n",
    "            best_sol2 = copy(x_vec)\n",
    "        end\n",
    "    end\n",
    "end\n",
    "\n",
    "println(\"\\nCLUSTER 2\")\n",
    "println(\"  Meilleur solution : \", best_sol2)\n",
    "println(\"  Valeur totale: \", best_val2)\n",
    "\n",
    "println(\"\\nUB total = \", best_val1 + best_val2)\n",
    "\n"
   ]
  },
  {
   "cell_type": "markdown",
   "id": "3e343a00",
   "metadata": {},
   "source": [
    "### Dual Fonction\n",
    "\n",
    "Évalution de la Fonction L_k"
   ]
  },
  {
   "cell_type": "code",
   "execution_count": 4,
   "id": "adb87f94",
   "metadata": {},
   "outputs": [
    {
     "data": {
      "text/plain": [
       "eval_Lk (generic function with 1 method)"
      ]
     },
     "metadata": {},
     "output_type": "display_data"
    }
   ],
   "source": [
    "\"\"\"\n",
    "Partitionne `n` variables en clusters de taille au plus `cluster_size`.\n",
    "Retourne un vecteur de clusters, chacun un vecteur d'indices à base 1.\n",
    "\"\"\"\n",
    "function create_clusters(n::Int, cluster_size::Int=5)\n",
    "    return [collect(i:min(i+cluster_size-1, n)) for i in 1:cluster_size:n]\n",
    "end\n",
    "\n",
    "function eval_Lk(\n",
    "    C::Matrix{Float64}, c::Vector{Float64},\n",
    "    lambda_kj::Dict{Tuple{Int,Int},Float64},\n",
    "    mu_ij::Dict{Tuple{Int,Int},Float64},\n",
    "    Ik::Vector{Int}, Jk::Vector{Int},\n",
    "    xIk::Vector{Int}, yk::Vector{Float64},\n",
    "    k::Int\n",
    ")\n",
    "    # 1) Termes linéaires et de contrainte de copie\n",
    "    term1 = 0.0\n",
    "    for (idx,i) in enumerate(Ik)\n",
    "        # c_i * x_i\n",
    "        term1 += c[i] * xIk[idx]\n",
    "        # somme sur h≠k de λ_{h,i} * x_i  ==> λ indexé par (h,i), ici somme sur tous (h,i)\n",
    "        for ((h,j), lam) in lambda_kj\n",
    "            if j==i && h != k\n",
    "                term1 += lam * xIk[idx]\n",
    "            end\n",
    "        end\n",
    "    end\n",
    "    # soustrait ∑_{j∈Jk} λ_{k,j} * y_j\n",
    "    term1 -= sum(lambda_kj[(k,j)] * yv for (j,yv) in zip(Jk, yk))\n",
    "\n",
    "    # 2) Terme quadratique intra-cluster : ½ ∑_{i,i'∈Ik, i≠i'} c_{ii'} x_i x_{i'}\n",
    "    term2 = 0.0\n",
    "    m = length(Ik)\n",
    "    for p in 1:m\n",
    "        for q in p+1:m\n",
    "            term2 += 0.5 * C[Ik[p], Ik[q]] * xIk[p] * xIk[q]\n",
    "        end\n",
    "    end\n",
    "\n",
    "    # 3) Termes croisés entre x et y\n",
    "    term3 = 0.0\n",
    "    for (p,i) in enumerate(Ik)\n",
    "        for (q,j) in enumerate(Jk)\n",
    "            coef = 0.5 * C[i,j]\n",
    "            # ajoute ou soustrait mu selon que j>i ou j<i\n",
    "            if j > i\n",
    "                coef += get(mu_ij, (i,j), 0.0)\n",
    "            else\n",
    "                coef -= get(mu_ij, (i,j), 0.0)\n",
    "            end\n",
    "            term3 += coef * xIk[p] * yk[q]\n",
    "        end\n",
    "    end\n",
    "\n",
    "    # Somme de tous les termes\n",
    "    return term1 + term2 + term3\n",
    "end"
   ]
  },
  {
   "cell_type": "markdown",
   "id": "b20e7904",
   "metadata": {},
   "source": [
    "Fonction duale finale"
   ]
  },
  {
   "cell_type": "code",
   "execution_count": 5,
   "id": "9427ec44",
   "metadata": {},
   "outputs": [
    {
     "data": {
      "text/plain": [
       "w_lambda_mu (generic function with 1 method)"
      ]
     },
     "metadata": {},
     "output_type": "display_data"
    }
   ],
   "source": [
    "function w_lambda_mu(\n",
    "    C::Matrix{Float64}, c::Vector{Float64}, a::Vector{Float64}, b::Float64,\n",
    "    cluster_size::Int,\n",
    "    lambda_kj::Dict{Tuple{Int,Int},Float64},\n",
    "    mu_ij::Dict{Tuple{Int,Int},Float64}\n",
    ")\n",
    "    n = length(c)\n",
    "    clusters = create_clusters(n, cluster_size)\n",
    "    w_val = 0.0\n",
    "\n",
    "    # Parcours de chaque cluster pour sommer les L_k maximales\n",
    "    for (k, Ik) in enumerate(clusters)\n",
    "        Jk = setdiff(1:n, Ik)\n",
    "        best_Lk = -Inf\n",
    "        m = length(Ik)\n",
    "\n",
    "        # Énumère toutes les assignations binaires pour les variables complicationnelles xIk\n",
    "        for s in 0:(2^m - 1)\n",
    "            # Construction de xIk\n",
    "            xIk = [Int((s >> (i-1)) & 1) for i in 1:m]\n",
    "            # Capacité utilisée par xIk\n",
    "            used_w = sum(a[Ik[i]] * xIk[i] for i in 1:m)\n",
    "            rem_cap = b - used_w\n",
    "            if rem_cap < 0\n",
    "                continue\n",
    "            end\n",
    "\n",
    "            # Résolution gloutonne de la relaxation continue pour y_j ∈ Jk\n",
    "            profits = Float64[]\n",
    "            weights = Float64[]\n",
    "            for j in Jk\n",
    "                inter = sum(\n",
    "                    0.5 * C[Ik[i], j] * xIk[i] +\n",
    "                    get(mu_ij, (Ik[i], j), 0.0) * xIk[i]\n",
    "                    for i in 1:m\n",
    "                )\n",
    "                lam = get(lambda_kj, (k, j), 0.0)\n",
    "                push!(profits, inter - lam)\n",
    "                push!(weights, a[j])\n",
    "            end\n",
    "\n",
    "            # Knapsack fractionnaire\n",
    "            ratios = profits ./ weights\n",
    "            idx = sortperm(ratios, rev=true)\n",
    "            yk = zeros(Float64, length(Jk))\n",
    "            cap = rem_cap\n",
    "            for j_idx in idx\n",
    "                if cap <= 0\n",
    "                    break\n",
    "                end\n",
    "                take = min(1.0, cap / weights[j_idx])\n",
    "                yk[j_idx] = take\n",
    "                cap -= weights[j_idx] * take\n",
    "            end\n",
    "\n",
    "            # Évalue L_k pour ce couple (xIk, yk)\n",
    "            Lk_val = eval_Lk(C, c, lambda_kj, mu_ij, Ik, Jk, xIk, yk, k)\n",
    "            best_Lk = max(best_Lk, Lk_val)\n",
    "        end\n",
    "\n",
    "        # Ajoute la meilleure valeur trouvée pour ce cluster\n",
    "        w_val += best_Lk\n",
    "    end\n",
    "\n",
    "    return w_val\n",
    "end"
   ]
  },
  {
   "cell_type": "markdown",
   "id": "46a7199d",
   "metadata": {},
   "source": [
    "Deuxieme version de w_lambda_mu(....), qui retourne le meilleur couple (x,y)"
   ]
  },
  {
   "cell_type": "code",
   "execution_count": 6,
   "id": "2aab038d",
   "metadata": {},
   "outputs": [
    {
     "data": {
      "text/plain": [
       "solve_dual_primal (generic function with 1 method)"
      ]
     },
     "metadata": {},
     "output_type": "display_data"
    }
   ],
   "source": [
    "function solve_dual_primal(\n",
    "    C::Matrix{Float64}, c::Vector{Float64}, a::Vector{Float64}, b::Float64,\n",
    "    cluster_size::Int,\n",
    "    lambda_kj::Dict{Tuple{Int,Int},Float64},\n",
    "    mu_ij::Dict{Tuple{Int,Int},Float64}\n",
    ")\n",
    "    n = length(c)\n",
    "    clusters = create_clusters(n, cluster_size)\n",
    "    w_val = 0.0\n",
    "    xstar = Vector{Vector{Int}}(undef, length(clusters))\n",
    "    ystar = Vector{Vector{Float64}}(undef, length(clusters))\n",
    "\n",
    "    for (k, Ik) in enumerate(clusters)\n",
    "        Jk = setdiff(1:n, Ik)\n",
    "        m = length(Ik)\n",
    "        best_Lk = -Inf\n",
    "        best_x = zeros(Int, m)\n",
    "        best_y = zeros(Float64, length(Jk))\n",
    "\n",
    "        for s in 0:(2^m - 1)\n",
    "            xIk = [ (s >> (i-1)) & 1 for i in 1:m ]\n",
    "            used_w = sum(a[Ik[i]] * xIk[i] for i in 1:m)\n",
    "            rem_cap = b - used_w\n",
    "            if rem_cap < 0\n",
    "                continue\n",
    "            end\n",
    "            profits = Float64[]; weights = Float64[]\n",
    "            for j in Jk\n",
    "                inter = sum(\n",
    "                    0.5 * C[Ik[i], j] * xIk[i] +\n",
    "                    get(mu_ij, (Ik[i], j), 0.0) * xIk[i]\n",
    "                    for i in 1:m\n",
    "                )\n",
    "                lam = get(lambda_kj, (k, j), 0.0)\n",
    "                push!(profits, inter - lam)\n",
    "                push!(weights, a[j])\n",
    "            end\n",
    "            ratios = profits ./ weights\n",
    "            idx = sortperm(ratios, rev=true)\n",
    "            yk = zeros(Float64, length(Jk)); cap = rem_cap\n",
    "            for j_idx in idx\n",
    "                cap <= 0 && break\n",
    "                take = min(1.0, cap / weights[j_idx])\n",
    "                yk[j_idx] = take\n",
    "                cap -= weights[j_idx] * take\n",
    "            end\n",
    "            val = eval_Lk(C, c, lambda_kj, mu_ij, Ik, Jk, xIk, yk, k)\n",
    "            if val > best_Lk\n",
    "                best_Lk = val\n",
    "                best_x .= xIk\n",
    "                best_y .= yk\n",
    "            end\n",
    "        end\n",
    "        w_val += best_Lk\n",
    "        xstar[k] = copy(best_x)\n",
    "        ystar[k] = copy(best_y)\n",
    "    end\n",
    "\n",
    "    return (w_val=w_val, xstar=xstar, ystar=ystar)\n",
    "end"
   ]
  },
  {
   "cell_type": "markdown",
   "id": "ca220455",
   "metadata": {},
   "source": [
    "## Implémentation d'algorithmes de gradients"
   ]
  },
  {
   "cell_type": "code",
   "execution_count": 7,
   "id": "674d4164",
   "metadata": {},
   "outputs": [
    {
     "data": {
      "text/plain": [
       "subgradient_solve (generic function with 1 method)"
      ]
     },
     "metadata": {},
     "output_type": "display_data"
    }
   ],
   "source": [
    "function subgradient_solve(\n",
    "    C::Matrix{Float64}, c::Vector{Float64}, a::Vector{Float64}, b::Float64,\n",
    "    cluster_size::Int,\n",
    "    lambda_init::Dict{Tuple{Int,Int},Float64},\n",
    "    mu_init::Dict{Tuple{Int,Int},Float64};\n",
    "    maxiter::Int=100,\n",
    "    alpha0::Float64=1.0,\n",
    "    p::Float64=0.9\n",
    ")\n",
    "    # Copie des valeurs initiales\n",
    "    lambda = deepcopy(lambda_init)\n",
    "    mu = deepcopy(mu_init)\n",
    "\n",
    "    best_dual = +Inf\n",
    "    best_lambda, best_mu = lambda, mu\n",
    "\n",
    "    alpha = alpha0\n",
    "\n",
    "    for t in 1:maxiter\n",
    "        # 1) Évalue la fonction duale et récupère les argmax primaux (x*, y*)\n",
    "        sol = solve_dual_primal(C, c, a, b, cluster_size, lambda, mu)\n",
    "        wval = sol.w_val\n",
    "\n",
    "        # 2) Mémorise la meilleure valeur duale\n",
    "        if wval < best_dual\n",
    "            best_dual = wval\n",
    "            best_lambda, best_mu = deepcopy(lambda), deepcopy(mu)\n",
    "        end\n",
    "\n",
    "        # 3) Calcul des sous-gradients pour λ et μ\n",
    "        glambda = Dict{Tuple{Int,Int},Float64}()\n",
    "        gmu = Dict{Tuple{Int,Int},Float64}()\n",
    "\n",
    "        for (k, Ik) in enumerate(create_clusters(length(c), cluster_size))\n",
    "            Jk = setdiff(1:length(c), Ik)\n",
    "            xIk = sol.xstar[k]\n",
    "            yk  = sol.ystar[k]\n",
    "            for (idx,j) in enumerate(Jk)\n",
    "                kj = cluster_of[j]\n",
    "                pj = pos_in_cluster[j]\n",
    "                xj = sol.xstar[kj][pj] \n",
    "                # g_lambda[k,j] = x_j* - y_j^k*\n",
    "                glambda[(k,j)] = xj - yk[idx]\n",
    "            end\n",
    "        end\n",
    "\n",
    "        # Sous-gradients pour contraintes croisées\n",
    "        for ((i,j), _) in mu\n",
    "            # Suppose on dispose de cluster_of et pos_in_cluster\n",
    "            k_i, pos_i = cluster_of[i], pos_in_cluster[i]\n",
    "            k_j, pos_j = cluster_of[j], pos_in_cluster[j]\n",
    "            x_i = sol.xstar[k_i][pos_i]\n",
    "            x_j = sol.xstar[k_j][pos_j]\n",
    "            y_ji = sol.ystar[k_j][pos_i]\n",
    "            y_ij = sol.ystar[k_i][pos_j]\n",
    "            # g_mu[i,j] = x_i*y_ji - x_j*y_ij\n",
    "            gmu[(i,j)] = x_i*y_ji - x_j*y_ij\n",
    "        end\n",
    "\n",
    "        # 4) Mise à jour des multiplicateurs\n",
    "        for key in keys(lambda)\n",
    "            lambda[key] = max(0.0, lambda[key] - alpha * glambda[key])\n",
    "        end\n",
    "        for key in keys(mu)\n",
    "            mu[key] = mu[key] - alpha * gmu[key]\n",
    "        end\n",
    "\n",
    "        # 5) Réduction du pas\n",
    "        alpha *= p\n",
    "    end\n",
    "\n",
    "    return best_lambda, best_mu, best_dual\n",
    "end"
   ]
  },
  {
   "cell_type": "markdown",
   "id": "a59bca20",
   "metadata": {},
   "source": [
    "Test 1:"
   ]
  },
  {
   "cell_type": "code",
   "execution_count": 8,
   "id": "d7ae7ff6",
   "metadata": {},
   "outputs": [],
   "source": [
    "c = [1.0, 2.0 ,3.0 ,4.0 ,5.0 , 6.0 ,7.0 ,8.0 ,9.0 ,10.0]\n",
    "Q = zeros(10,10)\n",
    "Q[1,2] = Q[2,1] = 1\n",
    "Q[2,3] = Q[3,2] = 1\n",
    "Q[3,4] = Q[4,3] = 1\n",
    "Q[4,5] = Q[5,4] = 1\n",
    "Q[6,7] = Q[7,6] = 2\n",
    "Q[7,8] = Q[8,7] = 2\n",
    "Q[8,9] = Q[9,8] = 2\n",
    "Q[9,10]= Q[10,9]= 2\n",
    "\n",
    "a = fill(2.0, 10)\n",
    "cluster_size = 5\n",
    "\n",
    "# 2) Para cada cluster, elegimos las dos primeras variables y las ponemos a 1\n",
    "clusters = create_clusters(10, 5)\n",
    "for Ik in clusters\n",
    "    # por ejemplo, fijamos Ik[1] e Ik[2] a peso 1\n",
    "    a[ Ik[1] ] = 1\n",
    "    a[ Ik[2] ] = 1\n",
    "end\n",
    "\n",
    "\n",
    "b = 4.0\n",
    "\n",
    "cluster_of = Dict{Int,Int}()\n",
    "pos_in_cluster = Dict{Int,Int}()\n",
    "for (k, Ik) in enumerate(clusters)\n",
    "    for (pos, i) in enumerate(Ik)\n",
    "        cluster_of[i] = k\n",
    "        pos_in_cluster[i] = pos\n",
    "    end\n",
    "end\n",
    "\n",
    "lambda_kj = Dict{Tuple{Int,Int},Float64}()\n",
    "for (k, Ik) in enumerate(clusters)\n",
    "    for j in setdiff(1:length(c), Ik)\n",
    "        lambda_kj[(k,j)] = 0.0\n",
    "    end\n",
    "end\n",
    "\n",
    "# initialize mu_{i,j} = 0 for every cross-cluster i<j\n",
    "mu_ij = Dict{Tuple{Int,Int},Float64}()\n",
    "for i in 1:length(c)-1, j in i+1:length(c)\n",
    "    if cluster_of[i] != cluster_of[j]\n",
    "        mu_ij[(i,j)] = 0.0\n",
    "    end\n",
    "end\n"
   ]
  },
  {
   "cell_type": "code",
   "execution_count": 9,
   "id": "7bd4c465",
   "metadata": {},
   "outputs": [
    {
     "name": "stdout",
     "output_type": "stream",
     "text": [
      "Best dual bound = 33.5\n",
      "Upper bound initiale: 35.0\n"
     ]
    }
   ],
   "source": [
    "lamda_opt, mu_opt, dual_val = subgradient_solve(\n",
    "    Q,       # Matrix{Float64}\n",
    "    c,     # Vector{Float64}\n",
    "    a,       # Vector{Float64}\n",
    "    b,       # Float64\n",
    "    cluster_size,\n",
    "    lambda_kj,\n",
    "    mu_ij;\n",
    "    maxiter = 50,\n",
    "    alpha0 = 1.0,\n",
    "    p      = 0.9\n",
    ")\n",
    "\n",
    "println(\"Best dual bound = \", dual_val)\n",
    "ub = compute_first_ub(c, Q, a, b)\n",
    "println(\"Upper bound initiale: \", ub)"
   ]
  },
  {
   "cell_type": "markdown",
   "id": "9de217da",
   "metadata": {},
   "source": [
    "### Versions de l'algo de sous gradient\n",
    "\n",
    "Méthode 2: Série convergente\n"
   ]
  },
  {
   "cell_type": "code",
   "execution_count": 14,
   "id": "eab2ea54",
   "metadata": {},
   "outputs": [
    {
     "data": {
      "text/plain": [
       "subgradient_solve_m2 (generic function with 1 method)"
      ]
     },
     "metadata": {},
     "output_type": "display_data"
    }
   ],
   "source": [
    "function subgradient_solve_m2(\n",
    "    C::Matrix{Float64}, c::Vector{Float64}, a::Vector{Float64}, b::Float64,\n",
    "    cluster_size::Int,\n",
    "    lambda_init::Dict{Tuple{Int,Int},Float64},\n",
    "    mu_init::Dict{Tuple{Int,Int},Float64};\n",
    "    maxiter::Int=100,\n",
    "    alpha0::Float64=1.0,\n",
    "    p::Float64=0.9\n",
    ")\n",
    "    # Copie des valeurs initiales\n",
    "    lambda = deepcopy(lambda_init)\n",
    "    mu = deepcopy(mu_init)\n",
    "\n",
    "    best_dual = +Inf\n",
    "    best_lambda, best_mu = lambda, mu\n",
    "\n",
    "    alpha = alpha0\n",
    "\n",
    "    for t in 1:maxiter\n",
    "        # 1) Évalue la fonction duale et récupère les argmax primaux (x*, y*)\n",
    "        sol = solve_dual_primal(C, c, a, b, cluster_size, lambda, mu)\n",
    "        wval = sol.w_val\n",
    "\n",
    "        # 2) Mémorise la meilleure valeur duale\n",
    "        if wval < best_dual\n",
    "            best_dual = wval\n",
    "            best_lambda, best_mu = deepcopy(lambda), deepcopy(mu)\n",
    "        end\n",
    "\n",
    "        # 3) Calcul des sous-gradients pour λ et μ\n",
    "        glambda = Dict{Tuple{Int,Int},Float64}()\n",
    "        gmu = Dict{Tuple{Int,Int},Float64}()\n",
    "\n",
    "        for (k, Ik) in enumerate(create_clusters(length(c), cluster_size))\n",
    "            Jk = setdiff(1:length(c), Ik)\n",
    "            xIk = sol.xstar[k]\n",
    "            yk  = sol.ystar[k]\n",
    "            for (idx,j) in enumerate(Jk)\n",
    "                kj = cluster_of[j]\n",
    "                pj = pos_in_cluster[j]\n",
    "                xj = sol.xstar[kj][pj] \n",
    "                # g_lambda[k,j] = x_j* - y_j^k*\n",
    "                glambda[(k,j)] = xj - yk[idx]\n",
    "            end\n",
    "        end\n",
    "\n",
    "        # Sous-gradients pour contraintes croisées\n",
    "        for ((i,j), _) in mu\n",
    "            # Suppose on dispose de cluster_of et pos_in_cluster\n",
    "            k_i, pos_i = cluster_of[i], pos_in_cluster[i]\n",
    "            k_j, pos_j = cluster_of[j], pos_in_cluster[j]\n",
    "            x_i = sol.xstar[k_i][pos_i]\n",
    "            x_j = sol.xstar[k_j][pos_j]\n",
    "            y_ji = sol.ystar[k_j][pos_i]\n",
    "            y_ij = sol.ystar[k_i][pos_j]\n",
    "            # g_mu[i,j] = x_i*y_ji - x_j*y_ij\n",
    "            gmu[(i,j)] = x_i*y_ji - x_j*y_ij\n",
    "        end\n",
    "\n",
    "        # 4) Mise à jour des multiplicateurs\n",
    "        for key in keys(lambda)\n",
    "            lambda[key] = max(0.0, lambda[key] - alpha * glambda[key])\n",
    "        end\n",
    "        for key in keys(mu)\n",
    "            mu[key] = mu[key] - alpha * gmu[key]\n",
    "        end\n",
    "\n",
    "        # 5) Réduction du pas\n",
    "        alpha =  alpha0 * p^(t-1)\n",
    "    end\n",
    "\n",
    "    return best_lambda, best_mu, best_dual\n",
    "end\n"
   ]
  },
  {
   "cell_type": "markdown",
   "id": "a55e059a",
   "metadata": {},
   "source": [
    "Méthode 3: Relaxation"
   ]
  },
  {
   "cell_type": "code",
   "execution_count": 15,
   "id": "7770624e",
   "metadata": {},
   "outputs": [
    {
     "data": {
      "text/plain": [
       "subgradient_solve_m3 (generic function with 1 method)"
      ]
     },
     "metadata": {},
     "output_type": "display_data"
    }
   ],
   "source": [
    "function subgradient_solve_m3(\n",
    "    C::Matrix{Float64}, c::Vector{Float64}, a::Vector{Float64}, b::Float64,\n",
    "    cluster_size::Int,\n",
    "    lambda_init::Dict{Tuple{Int,Int},Float64},\n",
    "    mu_init::Dict{Tuple{Int,Int},Float64};\n",
    "    fbar::Float64,\n",
    "    maxiter::Int=100,\n",
    "    p::Float64=0.9\n",
    ")\n",
    "    # Copie des valeurs initiales\n",
    "    lambda = deepcopy(lambda_init)\n",
    "    mu = deepcopy(mu_init)\n",
    "\n",
    "    best_dual = +Inf\n",
    "    best_lambda, best_mu = lambda, mu\n",
    "\n",
    "    alpha = 1.0\n",
    "\n",
    "    for t in 1:maxiter\n",
    "        # 1) Évalue la fonction duale et récupère les argmax primaux (x*, y*)\n",
    "        sol = solve_dual_primal(C, c, a, b, cluster_size, lambda, mu)\n",
    "        wval = sol.w_val\n",
    "\n",
    "        # 2) Mémorise la meilleure valeur duale\n",
    "        if wval < best_dual\n",
    "            best_dual = wval\n",
    "            best_lambda, best_mu = deepcopy(lambda), deepcopy(mu)\n",
    "        end\n",
    "\n",
    "        # 3) Calcul des sous-gradients pour λ et μ\n",
    "\n",
    "        g2 = 0.0\n",
    "        glambda = Dict{Tuple{Int,Int},Float64}()\n",
    "        gmu = Dict{Tuple{Int,Int},Float64}()\n",
    "\n",
    "        for (k, Ik) in enumerate(create_clusters(length(c), cluster_size))\n",
    "            Jk = setdiff(1:length(c), Ik)\n",
    "            xIk = sol.xstar[k]\n",
    "            yk  = sol.ystar[k]\n",
    "            for (idx,j) in enumerate(Jk)\n",
    "                kj = cluster_of[j]\n",
    "                pj = pos_in_cluster[j]\n",
    "                xj = sol.xstar[kj][pj] \n",
    "                # g_lambda[k,j] = x_j* - y_j^k*\n",
    "                val = xj - yk[idx]\n",
    "                glambda[(k,j)] = val\n",
    "                g2 += val^2\n",
    "            end\n",
    "        end\n",
    "\n",
    "        # Sous-gradients pour contraintes croisées\n",
    "        for ((i,j), _) in mu\n",
    "            # Suppose on dispose de cluster_of et pos_in_cluster\n",
    "            k_i, pos_i = cluster_of[i], pos_in_cluster[i]\n",
    "            k_j, pos_j = cluster_of[j], pos_in_cluster[j]\n",
    "            x_i = sol.xstar[k_i][pos_i]\n",
    "            x_j = sol.xstar[k_j][pos_j]\n",
    "            y_ji = sol.ystar[k_j][pos_i]\n",
    "            y_ij = sol.ystar[k_i][pos_j]\n",
    "            # g_mu[i,j] = x_i*y_ji - x_j*y_ij\n",
    "            val = x_i*y_ji - x_j*y_ij\n",
    "            gmu[(i,j)] = val\n",
    "            g2 += val^2\n",
    "        end\n",
    "\n",
    "        # 4) Mise à jour des multiplicateurs\n",
    "        for key in keys(lambda)\n",
    "            lambda[key] = max(0.0, lambda[key] - alpha * glambda[key])\n",
    "        end\n",
    "        for key in keys(mu)\n",
    "            mu[key] = mu[key] - alpha * gmu[key]\n",
    "        end\n",
    "\n",
    "        # 5) Réduction du pas - with safeguard\n",
    "        if wval > fbar\n",
    "            alpha = p * (wval - fbar) / sqrt(g2 + eps())\n",
    "        else\n",
    "            alpha = p * alpha  # Just reduce the current step size\n",
    "        end\n",
    "    end\n",
    "\n",
    "    return best_lambda, best_mu, best_dual\n",
    "end"
   ]
  },
  {
   "cell_type": "code",
   "execution_count": 16,
   "id": "796e4567",
   "metadata": {},
   "outputs": [
    {
     "name": "stdout",
     "output_type": "stream",
     "text": [
      "Best dual bound (méthode 2) = 33.5\n"
     ]
    }
   ],
   "source": [
    "lamda_opt_m2, mu_opt_m2, dual_val_m2 = subgradient_solve_m2(\n",
    "    Q,       # Matrix{Float64}\n",
    "    c,     # Vector{Float64}\n",
    "    a,       # Vector{Float64}\n",
    "    b,       # Float64\n",
    "    cluster_size,\n",
    "    lambda_kj,\n",
    "    mu_ij;\n",
    "    maxiter = 50,\n",
    "    alpha0 = 1.0,\n",
    "    p      = 0.9\n",
    ")\n",
    "\n",
    "println(\"Best dual bound (méthode 2) = \", dual_val_m2)"
   ]
  },
  {
   "cell_type": "code",
   "execution_count": 17,
   "id": "b16c51a0",
   "metadata": {},
   "outputs": [
    {
     "name": "stdout",
     "output_type": "stream",
     "text": [
      "greedy_linear fbar = 25.0\n",
      "greedy_plus_oneflip fbar = 25.0\n"
     ]
    }
   ],
   "source": [
    "\"\"\"\n",
    "  greedy_linear(c, Q, a, b)\n",
    "\n",
    "Heuristique O(n log n) :\n",
    "- Tri des items par ratio c[i]/a[i] décroissant\n",
    "- Remplissage glouton\n",
    "- Évaluation complète de fbar\n",
    "Retourne (X::Vector{Bool}, fbar::Float64).\n",
    "\"\"\"\n",
    "function greedy_linear(c::Vector{Float64},\n",
    "                       Q::Matrix{Float64},\n",
    "                       a::Vector{Float64},\n",
    "                       b::Float64)\n",
    "    n = length(c)\n",
    "    order = sortperm(c ./ a, rev=true)  # indices triés par ratio\n",
    "    X = falses(n)\n",
    "    cap = b\n",
    "\n",
    "    # Remplissage\n",
    "    for idx in order\n",
    "        if a[idx] <= cap\n",
    "            X[idx] = true\n",
    "            cap -= a[idx]\n",
    "        end\n",
    "    end\n",
    "\n",
    "    # Calcul de fbar complet\n",
    "    fbar = 0.0\n",
    "    for i in 1:n\n",
    "        if X[i]\n",
    "            fbar += c[i]\n",
    "            for j in (i+1):n\n",
    "                fbar += Q[i,j] * (X[j] ? 1.0 : 0.0)\n",
    "            end\n",
    "        end\n",
    "    end\n",
    "\n",
    "    return X, fbar\n",
    "end\n",
    "\n",
    "\"\"\"\n",
    "  greedy_plus_oneflip(c, Q, a, b)\n",
    "\n",
    "Heuristique :\n",
    "1) greedy_linear  \n",
    "2) Essaye un seul flip 0→1 si gain positif  \n",
    "Retourne (X::Vector{Bool}, fbar::Float64).\n",
    "\"\"\"\n",
    "function greedy_plus_oneflip(c::Vector{Float64},\n",
    "                             Q::Matrix{Float64},\n",
    "                             a::Vector{Float64},\n",
    "                             b::Float64)\n",
    "    n = length(c)\n",
    "    X, fbar = greedy_linear(c, Q, a, b)\n",
    "\n",
    "    # Capacité restante\n",
    "    cap = b - sum(a[ii] for ii in 1:n if X[ii])\n",
    "\n",
    "    # Un seul flip\n",
    "    for idx in 1:n\n",
    "        if !X[idx] && a[idx] <= cap\n",
    "            # gain marginal delta si on ajoute idx\n",
    "            delta = c[idx]\n",
    "            for k in 1:n\n",
    "                if X[k]\n",
    "                    delta += Q[idx,k]\n",
    "                end\n",
    "            end\n",
    "            if delta > 0\n",
    "                X[idx] = true\n",
    "                fbar += delta\n",
    "                break\n",
    "            end\n",
    "        end\n",
    "    end\n",
    "\n",
    "    return X, fbar\n",
    "end\n",
    "\n",
    "X0, fbar = greedy_linear(c, Q, a, b)\n",
    "println(\"greedy_linear fbar = \", fbar)\n",
    "\n",
    "X1, fbar1 = greedy_plus_oneflip(c, Q, a, b)\n",
    "println(\"greedy_plus_oneflip fbar = \", fbar1)\n"
   ]
  },
  {
   "cell_type": "markdown",
   "id": "187d8d1b",
   "metadata": {},
   "source": [
    "Heuristique gourmande ( Eric)"
   ]
  },
  {
   "cell_type": "code",
   "execution_count": 18,
   "id": "34273672",
   "metadata": {},
   "outputs": [
    {
     "data": {
      "text/plain": [
       "greedy_heuristic"
      ]
     },
     "metadata": {},
     "output_type": "display_data"
    }
   ],
   "source": [
    "\"\"\"\n",
    "  greedy_heuristic(c, Q, a, b)\n",
    "Heuristique gourmande basée sur l'algorithme du document :\n",
    "- Initialise tous les articles dans le sac\n",
    "- Retire itérativement l'article avec le plus petit ratio c_j tant que la contrainte de capacité est violée\n",
    "- Calcule les ratios c_j pour tous les articles restants hors du sac\n",
    "- Ajoute l'article avec le meilleur ratio si c_j > 0\n",
    "Retourne (X::Vector{Bool}, fbar::Float64).\n",
    "\"\"\"\n",
    "function greedy_heuristic(c::Vector{Float64},\n",
    "                         Q::Matrix{Float64},\n",
    "                         a::Vector{Float64},\n",
    "                         b::Float64)\n",
    "    # Create a copy to avoid modifying the original\n",
    "    c_work = copy(c)\n",
    "    n = length(c)\n",
    "    \n",
    "    # Étape 1: Mettre tous les articles dans le sac\n",
    "    # K1 = ensemble des articles dans le sac\n",
    "    # K0 = ensemble des articles hors du sac\n",
    "    K1 = Set(1:n)  # Tous les articles initialement dans le sac\n",
    "    K0 = Set{Int}()  # Aucun article hors du sac\n",
    "    \n",
    "    # Tant que la contrainte de capacité est violée\n",
    "    while sum(a[j] for j in K1) > b\n",
    "        # Trouver k ∈ K1 tel que c_k = min c_j pour j ∈ K1\n",
    "        c_values = [c_work[j] for j in K1]\n",
    "        min_c = minimum(c_values)\n",
    "        k = first(j for j in K1 if c_work[j] == min_c)\n",
    "        \n",
    "        # Mise à jour: K1 ← K1 \\ {k}, K0 ← K0 ∪ {k}\n",
    "        delete!(K1, k)\n",
    "        push!(K0, k)\n",
    "        \n",
    "        # Mise à jour de c_j pour j ∈ K1\n",
    "        for j in K1\n",
    "            c_work[j] = c_work[j] - Q[j,k]\n",
    "        end\n",
    "    end\n",
    "    \n",
    "    # Étape 2: Amélioration\n",
    "    # Pour tout j ∈ K0, calculer c_j et ajouter si c_j > 0\n",
    "    for j in K0\n",
    "        if j <= length(a)  # Vérification de sécurité\n",
    "            # Calculer c_j = c_j - sum(Q[j,k] for k ∈ K1)\n",
    "            c_j = c_work[j]\n",
    "            for k in K1\n",
    "                c_j -= Q[j,k]\n",
    "            end\n",
    "            \n",
    "            # Si c_j > 0, ajouter j au sac\n",
    "            if c_j > 0\n",
    "                push!(K1, j)\n",
    "                delete!(K0, j)\n",
    "            end\n",
    "        end\n",
    "    end\n",
    "    \n",
    "    # Construction du vecteur solution\n",
    "    X = falses(n)\n",
    "    for j in K1\n",
    "        X[j] = true\n",
    "    end\n",
    "    \n",
    "    # Calcul de la fonction objectif\n",
    "    fbar = 0.0\n",
    "    for i in 1:n\n",
    "        if X[i]\n",
    "            fbar += c[i]  # Use original c for objective calculation\n",
    "            for j in (i+1):n\n",
    "                if X[j]\n",
    "                    fbar += Q[i,j]\n",
    "                end\n",
    "            end\n",
    "        end\n",
    "    end\n",
    "    \n",
    "    return X, fbar\n",
    "end"
   ]
  },
  {
   "cell_type": "code",
   "execution_count": 19,
   "id": "22129316",
   "metadata": {},
   "outputs": [
    {
     "name": "stdout",
     "output_type": "stream",
     "text": [
      "greedy_heuristic fbar = 60.0\n"
     ]
    }
   ],
   "source": [
    "X_greedy, fbar_greedy = greedy_heuristic(c, Q, a, b)\n",
    "println(\"greedy_heuristic fbar = \", fbar_greedy)"
   ]
  },
  {
   "cell_type": "markdown",
   "id": "fe16468c",
   "metadata": {},
   "source": [
    "Heuristique : Recuit-Simulé"
   ]
  },
  {
   "cell_type": "code",
   "execution_count": 20,
   "id": "f69d311c",
   "metadata": {},
   "outputs": [
    {
     "data": {
      "text/plain": [
       "simulated_annealing"
      ]
     },
     "metadata": {},
     "output_type": "display_data"
    }
   ],
   "source": [
    "\"\"\"\n",
    "  simulated_annealing(c, Q, a, b, x_init; tau_init=100.0, rho=0.95, nbpaliers=50, L=100)\n",
    "\n",
    "Méthode heuristique du recuit-simulé pour le problème de sac-à-dos quadratique.\n",
    "Algorithme basé sur la description du document.\n",
    "\n",
    "Arguments:\n",
    "- c: vecteur des coefficients linéaires\n",
    "- Q: matrice des coefficients quadratiques\n",
    "- a: vecteur des poids des articles\n",
    "- b: capacité du sac\n",
    "- x_init: solution initiale (Vector{Bool})\n",
    "- tau_init: température initiale (défaut: 100.0)\n",
    "- rho: facteur de réduction de température (défaut: 0.95)\n",
    "- nbpaliers: nombre de paliers de température (défaut: 50)\n",
    "- L: nombre d'itérations par palier (défaut: 100)\n",
    "\n",
    "Retourne (X::Vector{Bool}, fbar::Float64).\n",
    "\"\"\"\n",
    "function simulated_annealing(c::Vector{Float64},\n",
    "                           Q::Matrix{Float64},\n",
    "                           a::Vector{Float64},\n",
    "                           b::Float64,\n",
    "                           x_init::BitVector;\n",
    "                           tau_init::Float64=100.0,\n",
    "                           rho::Float64=0.95,\n",
    "                           nbpaliers::Int=50,\n",
    "                           L::Int=100)\n",
    "    c_work = copy(c)\n",
    "    n = length(c_work)\n",
    "    # Fonction pour calculer la valeur objective\n",
    "    function objective_value(x::BitVector)\n",
    "        fval = 0.0\n",
    "        for i in 1:n\n",
    "            if x[i]\n",
    "                fval += c_work[i]\n",
    "                for j in (i+1):n\n",
    "                    if x[j]\n",
    "                        fval += Q[i,j]\n",
    "                    end\n",
    "                end\n",
    "            end\n",
    "        end\n",
    "        return fval\n",
    "    end\n",
    "    \n",
    "    # Fonction pour vérifier la faisabilité\n",
    "    function is_feasible(x::BitVector)\n",
    "        return sum(a[i] for i in 1:n if x[i]) <= b\n",
    "    end\n",
    "    \n",
    "    # Fonction pour générer un voisin en échangeant deux articles\n",
    "    function generate_neighbor(x::BitVector)\n",
    "        x_new = copy(x)\n",
    "        \n",
    "        # Trouver un article dans le sac et un article hors du sac\n",
    "        in_sac = findall(x)\n",
    "        out_sac = findall(.!x)\n",
    "        \n",
    "        if length(in_sac) == 0 || length(out_sac) == 0\n",
    "            return x_new  # Pas de voisin possible\n",
    "        end\n",
    "        \n",
    "        # Choisir aléatoirement un article de chaque ensemble\n",
    "        idx_in = rand(in_sac)\n",
    "        idx_out = rand(out_sac)\n",
    "        \n",
    "        # Échanger: sortir idx_in, entrer idx_out\n",
    "        x_new[idx_in] = false\n",
    "        x_new[idx_out] = true\n",
    "        \n",
    "        return x_new\n",
    "    end\n",
    "    \n",
    "    # (1) x ← solution initiale\n",
    "    x = copy(x_init)\n",
    "    best_x = copy(x)\n",
    "    best_f = objective_value(x)\n",
    "    \n",
    "    # (2) τ ← température initiale\n",
    "    tau = tau_init\n",
    "    \n",
    "    # (3) faire nbpaliers fois\n",
    "    for palier in 1:nbpaliers\n",
    "        \n",
    "        # (3.1) faire L fois\n",
    "        for iteration in 1:L\n",
    "            \n",
    "            # Tirer au hasard y voisin de x\n",
    "            y = generate_neighbor(x)\n",
    "            \n",
    "            # Vérifier la faisabilité\n",
    "            if !is_feasible(y)\n",
    "                continue  # Rejeter les solutions non faisables\n",
    "            end\n",
    "            \n",
    "            # Δ ← f(x) - f(y)\n",
    "            f_x = objective_value(x)\n",
    "            f_y = objective_value(y)\n",
    "            delta = f_x - f_y  # Pour un problème de maximisation\n",
    "            \n",
    "            # si Δ ≤ 0 alors (* amélioration *)\n",
    "            if delta <= 0\n",
    "                x = copy(y)\n",
    "                # Mettre à jour la meilleure solution\n",
    "                if f_y > best_f\n",
    "                    best_x = copy(y)\n",
    "                    best_f = f_y\n",
    "                end\n",
    "            else\n",
    "                # sinon (* détérioration *)\n",
    "                # tirer au hasard p ∈ [0,1]\n",
    "                p = rand()\n",
    "                \n",
    "                # proba := e^(-Δ/τ)\n",
    "                proba = exp(-delta / tau)\n",
    "                \n",
    "                # si (proba > p) alors x ← y\n",
    "                if proba > p\n",
    "                    x = copy(y)\n",
    "                end\n",
    "            end\n",
    "        end\n",
    "        \n",
    "        # (3.2) τ ← ρ * τ\n",
    "        tau = rho * tau\n",
    "    end\n",
    "    \n",
    "    # (4) retourner x (* x est la meilleure solution trouvée *)\n",
    "    return best_x, best_f\n",
    "end"
   ]
  },
  {
   "cell_type": "code",
   "execution_count": 21,
   "id": "7aee5668",
   "metadata": {},
   "outputs": [
    {
     "data": {
      "text/plain": [
       "10-element Vector{Bool}:\n",
       " 1\n",
       " 0\n",
       " 1\n",
       " 0\n",
       " 1\n",
       " 1\n",
       " 0\n",
       " 0\n",
       " 0\n",
       " 0"
      ]
     },
     "metadata": {},
     "output_type": "display_data"
    }
   ],
   "source": [
    "x_init = rand(Bool, length(c))  # Random initial solution\n",
    "x_init"
   ]
  },
  {
   "cell_type": "code",
   "execution_count": 22,
   "id": "6e07d3db",
   "metadata": {},
   "outputs": [
    {
     "name": "stdout",
     "output_type": "stream",
     "text": [
      "Simulated Annealing fbar = 60.0\n",
      "greedy_heuristic fbar = 60.0\n"
     ]
    }
   ],
   "source": [
    "X_sa, fbar_sa = simulated_annealing(c, Q, a, b, X_greedy)\n",
    "X_greedy, fbar_greedy = greedy_heuristic(c, Q, a, b)\n",
    "\n",
    "println(\"Simulated Annealing fbar = \", fbar_sa)\n",
    "\n",
    "println(\"greedy_heuristic fbar = \", fbar_greedy)"
   ]
  },
  {
   "cell_type": "code",
   "execution_count": 23,
   "id": "2408c751",
   "metadata": {},
   "outputs": [
    {
     "name": "stdout",
     "output_type": "stream",
     "text": [
      "Best dual bound (méthode 3) = 33.5\n"
     ]
    }
   ],
   "source": [
    "lamda_opt_m3, mu_opt_m3, dual_val_m3 = subgradient_solve_m3(\n",
    "    Q,       # Matrix{Float64}\n",
    "    c,     # Vector{Float64}\n",
    "    a,       # Vector{Float64}\n",
    "    b,       # Float64\n",
    "    cluster_size,\n",
    "    lambda_kj,\n",
    "    mu_ij;\n",
    "    fbar,\n",
    "    maxiter = 50,\n",
    "    p      = 0.9\n",
    ")\n",
    "\n",
    "println(\"Best dual bound (méthode 3) = \", dual_val_m3)"
   ]
  },
  {
   "cell_type": "code",
   "execution_count": 24,
   "id": "033a530f",
   "metadata": {},
   "outputs": [
    {
     "name": "stdout",
     "output_type": "stream",
     "text": [
      "Upper bound initiale: 35.0\n",
      "Dual bound (méthode 2) = 33.5\n",
      "Dual bound (méthode 3) = 33.5\n"
     ]
    }
   ],
   "source": [
    "println(\"Upper bound initiale: \", ub)\n",
    "println(\"Dual bound (méthode 2) = \", dual_val_m2)\n",
    "println(\"Dual bound (méthode 3) = \", dual_val_m3)\n"
   ]
  },
  {
   "cell_type": "code",
   "execution_count": 25,
   "id": "46c4e0f6",
   "metadata": {},
   "outputs": [
    {
     "name": "stdout",
     "output_type": "stream",
     "text": [
      "n            = 30\n",
      "cluster_size = 5\n",
      "b            = 19.200000000000003\n",
      "clusters     = [[1, 2, 3, 4, 5], [6, 7, 8, 9, 10], [11, 12, 13, 14, 15], [16, 17, 18, 19, 20], [21, 22, 23, 24, 25], [26, 27, 28, 29, 30]]\n",
      "c            = [1.0, 2.0, 3.0, 4.0, 5.0, 6.0, 7.0, 8.0, 9.0, 10.0, 11.0, 12.0, 13.0, 14.0, 15.0, 16.0, 17.0, 18.0, 19.0, 20.0, 21.0, 22.0, 23.0, 24.0, 25.0, 26.0, 27.0, 28.0, 29.0, 30.0]\n",
      "a            = [1.0, 1.0, 2.0, 2.0, 2.0, 1.0, 1.0, 2.0, 2.0, 2.0, 1.0, 1.0, 2.0, 2.0, 2.0, 1.0, 1.0, 2.0, 2.0, 2.0, 1.0, 1.0, 2.0, 2.0, 2.0, 1.0, 1.0, 2.0, 2.0, 2.0]\n"
     ]
    }
   ],
   "source": [
    "using Random\n",
    "\n",
    "# 1) Données du problème à 30 variables\n",
    "n = 30\n",
    "c = Float64.(1:n)            # [1.0, 2.0, …, 30.0]\n",
    "\n",
    "# 2) Matrice de couplages Q en « chaînes par blocs »\n",
    "Q = zeros(n, n)\n",
    "for i in 1:n-1\n",
    "    w = i ≤ 10  ? 1.0 :\n",
    "        i ≤ 20  ? 2.0 :\n",
    "                  3.0\n",
    "    Q[i, i+1] = w\n",
    "    Q[i+1, i] = w\n",
    "end\n",
    "# quelques croisements additionnels\n",
    "Q[5,15]  = Q[15,5]  = 0.5\n",
    "Q[10,20] = Q[20,10] = 0.7\n",
    "Q[12,25] = Q[25,12] = 1.2\n",
    "\n",
    "# 3) Poids a : tous à 2.0, puis on fixe 2 poids à 1 par cluster\n",
    "a = fill(2.0, n)\n",
    "cluster_size = 5\n",
    "\n",
    "# 4) Création des clusters et choix aléatoire de deux indices à poids=1\n",
    "clusters = create_clusters(n, cluster_size)\n",
    "for Ik in clusters\n",
    "    # por ejemplo, fijamos Ik[1] e Ik[2] a peso 1\n",
    "    a[ Ik[1] ] = 1\n",
    "    a[ Ik[2] ] = 1\n",
    "end\n",
    "\n",
    "# 5) Capacité b (par exemple 40% de la somme des a)\n",
    "b = 0.4 * sum(a)\n",
    "\n",
    "# 6) Tables de mapping pour les clusters\n",
    "cluster_of     = Dict{Int,Int}()\n",
    "pos_in_cluster = Dict{Int,Int}()\n",
    "for (k, Ik) in enumerate(clusters)\n",
    "    for (pos, i) in enumerate(Ik)\n",
    "        cluster_of[i]     = k\n",
    "        pos_in_cluster[i] = pos\n",
    "    end\n",
    "end\n",
    "\n",
    "# 7) Initialisation des multiplicateurs λ_{k,j}\n",
    "lambda_kj = Dict{Tuple{Int,Int},Float64}()\n",
    "for (k, Ik) in enumerate(clusters)\n",
    "    for j in setdiff(1:n, Ik)\n",
    "        lambda_kj[(k,j)] = 0.0\n",
    "    end\n",
    "end\n",
    "\n",
    "# 8) Initialisation des multiplicateurs μ_{i,j}\n",
    "mu_ij = Dict{Tuple{Int,Int},Float64}()\n",
    "for i in 1:n-1, j in i+1:n\n",
    "    if cluster_of[i] != cluster_of[j]\n",
    "        mu_ij[(i,j)] = 0.0\n",
    "    end\n",
    "end\n",
    "\n",
    "# 9) Affichage de l’instance\n",
    "println(\"n            = \", n)\n",
    "println(\"cluster_size = \", cluster_size)\n",
    "println(\"b            = \", b)\n",
    "println(\"clusters     = \", clusters)\n",
    "println(\"c            = \", c)\n",
    "println(\"a            = \", a)\n"
   ]
  },
  {
   "cell_type": "code",
   "execution_count": 26,
   "id": "e66776f4",
   "metadata": {},
   "outputs": [
    {
     "name": "stdout",
     "output_type": "stream",
     "text": [
      "greedy_linear fbar = 330.2\n",
      "greedy_plus_oneflip fbar = 330.2\n"
     ]
    }
   ],
   "source": [
    "X0, fbar = greedy_linear(c, Q, a, b)\n",
    "println(\"greedy_linear fbar = \", fbar)\n",
    "\n",
    "X1, fbar1 = greedy_plus_oneflip(c, Q, a, b)\n",
    "println(\"greedy_plus_oneflip fbar = \", fbar1)"
   ]
  },
  {
   "cell_type": "code",
   "execution_count": 27,
   "id": "25b9ee01",
   "metadata": {},
   "outputs": [
    {
     "name": "stdout",
     "output_type": "stream",
     "text": [
      "Best dual bound (méthode 2) = 500.4\n"
     ]
    }
   ],
   "source": [
    "lamda_opt_m2, mu_opt_m2, dual_val_m2 = subgradient_solve_m2(\n",
    "    Q,       # Matrix{Float64}\n",
    "    c,     # Vector{Float64}\n",
    "    a,       # Vector{Float64}\n",
    "    b,       # Float64\n",
    "    cluster_size,\n",
    "    lambda_kj,\n",
    "    mu_ij;\n",
    "    maxiter = 1,\n",
    "    alpha0 = 1.0,\n",
    "    p      = 0.9\n",
    ")\n",
    "\n",
    "println(\"Best dual bound (méthode 2) = \", dual_val_m2)"
   ]
  },
  {
   "cell_type": "code",
   "execution_count": 28,
   "id": "efe3f490",
   "metadata": {},
   "outputs": [
    {
     "name": "stdout",
     "output_type": "stream",
     "text": [
      "Best dual bound (méthode 3) = 500.4\n"
     ]
    }
   ],
   "source": [
    "fbar= 520.4\n",
    "\n",
    "lamda_opt_m3, mu_opt_m3, dual_val_m3 = subgradient_solve_m3(\n",
    "    Q,       # Matrix{Float64}\n",
    "    c,     # Vector{Float64}\n",
    "    a,       # Vector{Float64}\n",
    "    b,       # Float64\n",
    "    cluster_size,\n",
    "    lambda_kj,\n",
    "    mu_ij;\n",
    "    fbar,\n",
    "    maxiter = 50,\n",
    "    p      = 0.9\n",
    ")\n",
    "\n",
    "println(\"Best dual bound (méthode 3) = \", dual_val_m3)"
   ]
  },
  {
   "cell_type": "markdown",
   "id": "ebea8e0a",
   "metadata": {},
   "source": [
    "### exemple 1: n = 1000"
   ]
  },
  {
   "cell_type": "code",
   "execution_count": 77,
   "id": "1c1c278f",
   "metadata": {},
   "outputs": [
    {
     "name": "stdout",
     "output_type": "stream",
     "text": [
      "Instance 1000 vars  •  b = 640.0\n"
     ]
    }
   ],
   "source": [
    "using Random\n",
    "\n",
    "\n",
    "n = 1000\n",
    "c = Float64.(1:n)            # [1.0, 2.0, …, 1000.0]\n",
    "\n",
    "# matrice Q en « chaînes par blocs »\n",
    "Q = zeros(n, n)\n",
    "for i in 1:n-1\n",
    "    w = i ≤ n÷3  ? 1.0 :\n",
    "        i ≤ 2n÷3 ? 2.0 :\n",
    "                   3.0\n",
    "    Q[i, i+1] = w\n",
    "    Q[i+1, i] = w\n",
    "end\n",
    "# quelques croisements additionnels fixes\n",
    "Q[round(Int,n/4), round(Int,3n/4)] = 0.5\n",
    "Q[round(Int,n/3), round(Int,n/2)]   = 0.7\n",
    "Q[round(Int,n/2), round(Int,2n/3)]  = 1.2\n",
    "\n",
    "# poids a et clusters\n",
    "a = fill(2.0, n)\n",
    "cluster_size = 5\n",
    "clusters = create_clusters(n, cluster_size)\n",
    "for Ik in clusters\n",
    "    a[Ik[1]] = 1\n",
    "    a[Ik[2]] = 1\n",
    "end\n",
    "\n",
    "b = 0.4 * sum(a)  # capacité\n",
    "\n",
    "# tables de mapping\n",
    "cluster_of     = Dict{Int,Int}()\n",
    "pos_in_cluster = Dict{Int,Int}()\n",
    "for (k, Ik) in enumerate(clusters)\n",
    "    for (pos, i) in enumerate(Ik)\n",
    "        cluster_of[i]     = k\n",
    "        pos_in_cluster[i] = pos\n",
    "    end\n",
    "end\n",
    "\n",
    "# λ_{k,j}\n",
    "lambda_kj = Dict{Tuple{Int,Int},Float64}()\n",
    "for (k, Ik) in enumerate(clusters)\n",
    "    for j in setdiff(1:n, Ik)\n",
    "        lambda_kj[(k,j)] = 0.0\n",
    "    end\n",
    "end\n",
    "\n",
    "# μ_{i,j}\n",
    "mu_ij = Dict{Tuple{Int,Int},Float64}()\n",
    "for i in 1:n-1, j in i+1:n\n",
    "    if cluster_of[i] != cluster_of[j]\n",
    "        mu_ij[(i,j)] = 0.0\n",
    "    end\n",
    "end\n",
    "\n",
    "println(\"Instance 1000 vars  •  b = \", b)\n"
   ]
  },
  {
   "cell_type": "code",
   "execution_count": 78,
   "id": "91a42f49",
   "metadata": {},
   "outputs": [
    {
     "name": "stdout",
     "output_type": "stream",
     "text": [
      "greedy_linear fbar = 336530.0\n"
     ]
    }
   ],
   "source": [
    "\n",
    "X0, fbar = greedy_linear(c, Q, a, b)\n",
    "println(\"greedy_linear fbar = \", fbar)"
   ]
  },
  {
   "cell_type": "code",
   "execution_count": 79,
   "id": "2738d976",
   "metadata": {},
   "outputs": [
    {
     "name": "stdout",
     "output_type": "stream",
     "text": [
      "greedy_plus_oneflip fbar = 336530.0\n"
     ]
    }
   ],
   "source": [
    "\n",
    "X1, fbar1 = greedy_plus_oneflip(c, Q, a, b)\n",
    "println(\"greedy_plus_oneflip fbar = \", fbar1)"
   ]
  },
  {
   "cell_type": "code",
   "execution_count": 80,
   "id": "050989f3",
   "metadata": {},
   "outputs": [
    {
     "name": "stdout",
     "output_type": "stream",
     "text": [
      "greedy_heuristic fbar = 502493.4\n"
     ]
    }
   ],
   "source": [
    "X_greedy, fbar_greedy = greedy_heuristic(c, Q, a, b)\n",
    "println(\"greedy_heuristic fbar = \", fbar_greedy)"
   ]
  },
  {
   "cell_type": "code",
   "execution_count": 81,
   "id": "4a0ff005",
   "metadata": {},
   "outputs": [
    {
     "name": "stdout",
     "output_type": "stream",
     "text": [
      "Simulated Annealing fbar = 502493.4\n"
     ]
    }
   ],
   "source": [
    "X_sa, fbar_sa = simulated_annealing(c, Q, a, b, X_greedy)\n",
    "println(\"Simulated Annealing fbar = \", fbar_sa)\n"
   ]
  },
  {
   "cell_type": "code",
   "execution_count": 82,
   "id": "b507607e",
   "metadata": {},
   "outputs": [
    {
     "data": {
      "text/plain": [
       "502100.0"
      ]
     },
     "metadata": {},
     "output_type": "display_data"
    }
   ],
   "source": [
    "ub = compute_first_ub(c, Q, a, b)\n"
   ]
  },
  {
   "cell_type": "code",
   "execution_count": 83,
   "id": "0d9d24de",
   "metadata": {},
   "outputs": [
    {
     "ename": "InterruptException",
     "evalue": "InterruptException:",
     "output_type": "error",
     "traceback": [
      "InterruptException:\n",
      "\n",
      "Stacktrace:\n",
      "  [1] _foldl_impl(op::Base.MappingRF{var\"#21#22\"{Dict{Tuple{Int64, Int64}, Float64}, Int64}, Base.BottomRF{typeof(Base.add_sum)}}, init::Base._InitialValue, itr::Base.Iterators.Zip{Tuple{Vector{Int64}, Vector{Float64}}})\n",
      "    @ Base ./reduce.jl:53\n",
      "  [2] foldl_impl\n",
      "    @ ./reduce.jl:48 [inlined]\n",
      "  [3] mapfoldl_impl\n",
      "    @ ./reduce.jl:44 [inlined]\n",
      "  [4] mapfoldl\n",
      "    @ ./reduce.jl:175 [inlined]\n",
      "  [5] mapreduce\n",
      "    @ ./reduce.jl:307 [inlined]\n",
      "  [6] sum\n",
      "    @ ./reduce.jl:535 [inlined]\n",
      "  [7] sum\n",
      "    @ ./reduce.jl:564 [inlined]\n",
      "  [8] eval_Lk(C::Matrix{Float64}, c::Vector{Float64}, lambda_kj::Dict{Tuple{Int64, Int64}, Float64}, mu_ij::Dict{Tuple{Int64, Int64}, Float64}, Ik::Vector{Int64}, Jk::Vector{Int64}, xIk::Vector{Int64}, yk::Vector{Float64}, k::Int64)\n",
      "    @ Main ~/Stage/jl_notebook_cell_df34fa98e69747e1a8f8a730347b8e2f_X10sdnNjb2RlLXJlbW90ZQ==.jl:30\n",
      "  [9] solve_dual_primal(C::Matrix{Float64}, c::Vector{Float64}, a::Vector{Float64}, b::Float64, cluster_size::Int64, lambda_kj::Dict{Tuple{Int64, Int64}, Float64}, mu_ij::Dict{Tuple{Int64, Int64}, Float64})\n",
      "    @ Main ~/Stage/jl_notebook_cell_df34fa98e69747e1a8f8a730347b8e2f_X14sdnNjb2RlLXJlbW90ZQ==.jl:47\n",
      " [10] subgradient_solve_m2(C::Matrix{Float64}, c::Vector{Float64}, a::Vector{Float64}, b::Float64, cluster_size::Int64, lambda_init::Dict{Tuple{Int64, Int64}, Float64}, mu_init::Dict{Tuple{Int64, Int64}, Float64}; maxiter::Int64, alpha0::Float64, p::Float64)\n",
      "    @ Main ~/Stage/jl_notebook_cell_df34fa98e69747e1a8f8a730347b8e2f_X24sdnNjb2RlLXJlbW90ZQ==.jl:21\n",
      " [11] top-level scope\n",
      "    @ ~/Stage/jl_notebook_cell_df34fa98e69747e1a8f8a730347b8e2f_X61sdnNjb2RlLXJlbW90ZQ==.jl:1"
     ]
    }
   ],
   "source": [
    "lamda_opt_m2, mu_opt_m2, dual_val_m2 = subgradient_solve_m2(\n",
    "    Q,       # Matrix{Float64}\n",
    "    c,     # Vector{Float64}\n",
    "    a,       # Vector{Float64}\n",
    "    b,       # Float64\n",
    "    cluster_size,\n",
    "    lambda_kj,\n",
    "    mu_ij;\n",
    "    maxiter = 50,\n",
    "    alpha0 = 1.0,\n",
    "    p      = 0.9\n",
    ")"
   ]
  },
  {
   "cell_type": "code",
   "execution_count": 84,
   "id": "affaa97a",
   "metadata": {},
   "outputs": [
    {
     "ename": "InterruptException",
     "evalue": "InterruptException:",
     "output_type": "error",
     "traceback": [
      "InterruptException:\n",
      "\n",
      "Stacktrace:\n",
      "  [1] _foldl_impl(op::Base.MappingRF{var\"#21#22\"{Dict{Tuple{Int64, Int64}, Float64}, Int64}, Base.BottomRF{typeof(Base.add_sum)}}, init::Base._InitialValue, itr::Base.Iterators.Zip{Tuple{Vector{Int64}, Vector{Float64}}})\n",
      "    @ Base ./reduce.jl:53\n",
      "  [2] foldl_impl\n",
      "    @ ./reduce.jl:48 [inlined]\n",
      "  [3] mapfoldl_impl\n",
      "    @ ./reduce.jl:44 [inlined]\n",
      "  [4] mapfoldl\n",
      "    @ ./reduce.jl:175 [inlined]\n",
      "  [5] mapreduce\n",
      "    @ ./reduce.jl:307 [inlined]\n",
      "  [6] sum\n",
      "    @ ./reduce.jl:535 [inlined]\n",
      "  [7] sum\n",
      "    @ ./reduce.jl:564 [inlined]\n",
      "  [8] eval_Lk(C::Matrix{Float64}, c::Vector{Float64}, lambda_kj::Dict{Tuple{Int64, Int64}, Float64}, mu_ij::Dict{Tuple{Int64, Int64}, Float64}, Ik::Vector{Int64}, Jk::Vector{Int64}, xIk::Vector{Int64}, yk::Vector{Float64}, k::Int64)\n",
      "    @ Main ~/Stage/jl_notebook_cell_df34fa98e69747e1a8f8a730347b8e2f_X10sdnNjb2RlLXJlbW90ZQ==.jl:30\n",
      "  [9] solve_dual_primal(C::Matrix{Float64}, c::Vector{Float64}, a::Vector{Float64}, b::Float64, cluster_size::Int64, lambda_kj::Dict{Tuple{Int64, Int64}, Float64}, mu_ij::Dict{Tuple{Int64, Int64}, Float64})\n",
      "    @ Main ~/Stage/jl_notebook_cell_df34fa98e69747e1a8f8a730347b8e2f_X14sdnNjb2RlLXJlbW90ZQ==.jl:47\n",
      " [10] subgradient_solve_m3(C::Matrix{Float64}, c::Vector{Float64}, a::Vector{Float64}, b::Float64, cluster_size::Int64, lambda_init::Dict{Tuple{Int64, Int64}, Float64}, mu_init::Dict{Tuple{Int64, Int64}, Float64}; fbar::Float64, maxiter::Int64, p::Float64)\n",
      "    @ Main ~/Stage/jl_notebook_cell_df34fa98e69747e1a8f8a730347b8e2f_X26sdnNjb2RlLXJlbW90ZQ==.jl:21\n",
      " [11] top-level scope\n",
      "    @ ~/Stage/jl_notebook_cell_df34fa98e69747e1a8f8a730347b8e2f_X62sdnNjb2RlLXJlbW90ZQ==.jl:1"
     ]
    }
   ],
   "source": [
    "lamda_opt_m3, mu_opt_m3, dual_val_m3 = subgradient_solve_m3(\n",
    "    Q,       # Matrix{Float64}\n",
    "    c,     # Vector{Float64}\n",
    "    a,       # Vector{Float64}\n",
    "    b,       # Float64\n",
    "    cluster_size,\n",
    "    lambda_kj,\n",
    "    mu_ij;\n",
    "    fbar = fbar_sa,\n",
    "    maxiter = 50,\n",
    "    p      = 0.9\n",
    ")"
   ]
  },
  {
   "cell_type": "code",
   "execution_count": 85,
   "id": "ed3cb716",
   "metadata": {},
   "outputs": [
    {
     "name": "stdout",
     "output_type": "stream",
     "text": [
      "Upper bound initiale: 502100.0\n",
      "Dual bound (méthode 2) = 125849.2\n",
      "Dual bound (méthode 3) = 125849.2\n"
     ]
    }
   ],
   "source": [
    "println(\"Upper bound initiale: \", ub)\n",
    "println(\"Dual bound (méthode 2) = \", dual_val_m2)\n",
    "println(\"Dual bound (méthode 3) = \", dual_val_m3)"
   ]
  },
  {
   "cell_type": "markdown",
   "id": "acadf629",
   "metadata": {},
   "source": [
    "### exemple 2: n = 500"
   ]
  },
  {
   "cell_type": "code",
   "execution_count": 67,
   "id": "a69c704c",
   "metadata": {},
   "outputs": [
    {
     "name": "stdout",
     "output_type": "stream",
     "text": [
      "Instance 500 vars   •  b = 320.0\n"
     ]
    }
   ],
   "source": [
    "n = 500\n",
    "c = Float64.(1:n)\n",
    "\n",
    "Q = zeros(n, n)\n",
    "for i in 1:n-1\n",
    "    w = i ≤ n÷3  ? 1.0 :\n",
    "        i ≤ 2n÷3 ? 2.0 :\n",
    "                   3.0\n",
    "    Q[i, i+1] = w\n",
    "    Q[i+1, i] = w\n",
    "end\n",
    "Q[round(Int,n/4), round(Int,3n/4)] = 0.5\n",
    "Q[round(Int,n/3), round(Int,n/2)]   = 0.7\n",
    "Q[round(Int,n/2), round(Int,2n/3)]  = 1.2\n",
    "\n",
    "a = fill(2.0, n)\n",
    "cluster_size = 5\n",
    "clusters = create_clusters(n, cluster_size)\n",
    "for Ik in clusters\n",
    "    a[Ik[1]] = 1\n",
    "    a[Ik[2]] = 1\n",
    "end\n",
    "\n",
    "b = 0.4 * sum(a)\n",
    "\n",
    "cluster_of     = Dict{Int,Int}()\n",
    "pos_in_cluster = Dict{Int,Int}()\n",
    "for (k, Ik) in enumerate(clusters)\n",
    "    for (pos, i) in enumerate(Ik)\n",
    "        cluster_of[i]     = k\n",
    "        pos_in_cluster[i] = pos\n",
    "    end\n",
    "end\n",
    "\n",
    "lambda_kj = Dict{Tuple{Int,Int},Float64}()\n",
    "for (k, Ik) in enumerate(clusters)\n",
    "    for j in setdiff(1:n, Ik)\n",
    "        lambda_kj[(k,j)] = 0.0\n",
    "    end\n",
    "end\n",
    "\n",
    "mu_ij = Dict{Tuple{Int,Int},Float64}()\n",
    "for i in 1:n-1, j in i+1:n\n",
    "    if cluster_of[i] != cluster_of[j]\n",
    "        mu_ij[(i,j)] = 0.0\n",
    "    end\n",
    "end\n",
    "\n",
    "println(\"Instance 500 vars   •  b = \", b)"
   ]
  },
  {
   "cell_type": "code",
   "execution_count": 68,
   "id": "02df99b9",
   "metadata": {},
   "outputs": [
    {
     "name": "stdout",
     "output_type": "stream",
     "text": [
      "greedy_linear fbar = 84402.0\n"
     ]
    }
   ],
   "source": [
    "\n",
    "X0, fbar = greedy_linear(c, Q, a, b)\n",
    "println(\"greedy_linear fbar = \", fbar)"
   ]
  },
  {
   "cell_type": "code",
   "execution_count": 69,
   "id": "f6cca4d6",
   "metadata": {},
   "outputs": [
    {
     "name": "stdout",
     "output_type": "stream",
     "text": [
      "greedy_plus_oneflip fbar = 84402.0\n"
     ]
    }
   ],
   "source": [
    "\n",
    "X1, fbar1 = greedy_plus_oneflip(c, Q, a, b)\n",
    "println(\"greedy_plus_oneflip fbar = \", fbar1)"
   ]
  },
  {
   "cell_type": "code",
   "execution_count": 70,
   "metadata": {},
   "outputs": [
    {
     "name": "stdout",
     "output_type": "stream",
     "text": [
      "greedy_heuristic fbar = 126246.4\n"
     ]
    }
   ],
   "source": [
    "X_greedy, fbar_greedy = greedy_heuristic(c, Q, a, b)\n",
    "println(\"greedy_heuristic fbar = \", fbar_greedy)"
   ]
  },
  {
   "cell_type": "code",
   "execution_count": 71,
   "id": "34e81730",
   "metadata": {},
   "outputs": [
    {
     "name": "stdout",
     "output_type": "stream",
     "text": [
      "Simulated Annealing fbar = 126246.4\n"
     ]
    }
   ],
   "source": [
    "X_sa, fbar_sa = simulated_annealing(c, Q, a, b, X_greedy)\n",
    "println(\"Simulated Annealing fbar = \", fbar_sa)"
   ]
  },
  {
   "cell_type": "code",
   "execution_count": 72,
   "id": "a78d5623",
   "metadata": {},
   "outputs": [
    {
     "data": {
      "text/plain": [
       "126050.0"
      ]
     },
     "metadata": {},
     "output_type": "display_data"
    }
   ],
   "source": [
    "ub = compute_first_ub(c, Q, a, b)"
   ]
  },
  {
   "cell_type": "code",
   "execution_count": 73,
   "id": "ed7653f8",
   "metadata": {},
   "outputs": [
    {
     "data": {
      "text/plain": [
       "(Dict((5, 499) => 0.0, (12, 418) => 0.0, (75, 444) => 0.0, (48, 61) => 0.0, (60, 171) => 0.0, (52, 32) => 0.0, (25, 73) => 0.0, (91, 30) => 0.0, (100, 10) => 0.0, (52, 193) => 0.0…), Dict((262, 419) => 0.0, (349, 464) => 0.0, (243, 313) => 0.0, (416, 469) => 0.0, (308, 347) => 0.0, (5, 499) => 0.0, (12, 418) => 0.0, (75, 444) => 0.0, (161, 462) => 0.0, (48, 61) => 0.0…), 125849.2)"
      ]
     },
     "metadata": {},
     "output_type": "display_data"
    }
   ],
   "source": [
    "lamda_opt_m2, mu_opt_m2, dual_val_m2 = subgradient_solve_m2(\n",
    "    Q,       # Matrix{Float64}\n",
    "    c,     # Vector{Float64}\n",
    "    a,       # Vector{Float64}\n",
    "    b,       # Float64\n",
    "    cluster_size,\n",
    "    lambda_kj,\n",
    "    mu_ij;\n",
    "    maxiter = 50,\n",
    "    alpha0 = 1.0,\n",
    "    p      = 0.9\n",
    ")"
   ]
  },
  {
   "cell_type": "code",
   "execution_count": 74,
   "id": "2d774eaa",
   "metadata": {},
   "outputs": [
    {
     "data": {
      "text/plain": [
       "(Dict((5, 499) => 0.0, (12, 418) => 0.0, (75, 444) => 0.0, (48, 61) => 0.0, (60, 171) => 0.0, (52, 32) => 0.0, (25, 73) => 0.0, (91, 30) => 0.0, (100, 10) => 0.0, (52, 193) => 0.0…), Dict((262, 419) => 0.0, (349, 464) => 0.0, (243, 313) => 0.0, (416, 469) => 0.0, (308, 347) => 0.0, (5, 499) => 0.0, (12, 418) => 0.0, (75, 444) => 0.0, (161, 462) => 0.0, (48, 61) => 0.0…), 125849.2)"
      ]
     },
     "metadata": {},
     "output_type": "display_data"
    }
   ],
   "source": [
    "lamda_opt_m3, mu_opt_m3, dual_val_m3 = subgradient_solve_m3(\n",
    "    Q,       # Matrix{Float64}\n",
    "    c,     # Vector{Float64}\n",
    "    a,       # Vector{Float64}\n",
    "    b,       # Float64\n",
    "    cluster_size,\n",
    "    lambda_kj,\n",
    "    mu_ij;\n",
    "    fbar = fbar_sa,\n",
    "    maxiter = 50,\n",
    "    p      = 0.9\n",
    ")"
   ]
  },
  {
   "cell_type": "code",
   "execution_count": 76,
   "id": "7d591159",
   "metadata": {},
   "outputs": [
    {
     "name": "stdout",
     "output_type": "stream",
     "text": [
      "Upper bound initiale: 126050.0\n",
      "Dual bound (méthode 2) = 125849.2\n",
      "Dual bound (méthode 3) = 125849.2\n"
     ]
    }
   ],
   "source": [
    "println(\"Upper bound initiale: \", ub)\n",
    "println(\"Dual bound (méthode 2) = \", dual_val_m2)\n",
    "println(\"Dual bound (méthode 3) = \", dual_val_m3)"
   ]
  },
  {
   "cell_type": "markdown",
   "id": "b3823345",
   "metadata": {},
   "source": [
    "### exemple 3: n = 100"
   ]
  },
  {
   "cell_type": "code",
   "execution_count": 56,
   "id": "79ab9a3a",
   "metadata": {},
   "outputs": [
    {
     "name": "stdout",
     "output_type": "stream",
     "text": [
      "Instance 100 vars   •  b = 64.0\n"
     ]
    }
   ],
   "source": [
    "\n",
    "\n",
    "n = 100\n",
    "c = Float64.(1:n)\n",
    "\n",
    "Q = zeros(n, n)\n",
    "for i in 1:n-1\n",
    "    w = i ≤ n÷3  ? 1.0 :\n",
    "        i ≤ 2n÷3 ? 2.0 :\n",
    "                   3.0\n",
    "    Q[i, i+1] = w\n",
    "    Q[i+1, i] = w\n",
    "end\n",
    "Q[round(Int,n/4), round(Int,3n/4)] = 0.5\n",
    "Q[round(Int,n/3), round(Int,n/2)]   = 0.7\n",
    "Q[round(Int,n/2), round(Int,2n/3)]  = 1.2\n",
    "\n",
    "a = fill(2.0, n)\n",
    "cluster_size = 5\n",
    "clusters = create_clusters(n, cluster_size)\n",
    "for Ik in clusters\n",
    "    a[Ik[1]] = 1\n",
    "    a[Ik[2]] = 1\n",
    "end\n",
    "\n",
    "b = 0.4 * sum(a)\n",
    "\n",
    "cluster_of     = Dict{Int,Int}()\n",
    "pos_in_cluster = Dict{Int,Int}()\n",
    "for (k, Ik) in enumerate(clusters)\n",
    "    for (pos, i) in enumerate(Ik)\n",
    "        cluster_of[i]     = k\n",
    "        pos_in_cluster[i] = pos\n",
    "    end\n",
    "end\n",
    "\n",
    "lambda_kj = Dict{Tuple{Int,Int},Float64}()\n",
    "for (k, Ik) in enumerate(clusters)\n",
    "    for j in setdiff(1:n, Ik)\n",
    "        lambda_kj[(k,j)] = 0.0\n",
    "    end\n",
    "end\n",
    "\n",
    "mu_ij = Dict{Tuple{Int,Int},Float64}()\n",
    "for i in 1:n-1, j in i+1:n\n",
    "    if cluster_of[i] != cluster_of[j]\n",
    "        mu_ij[(i,j)] = 0.0\n",
    "    end\n",
    "end\n",
    "\n",
    "println(\"Instance 100 vars   •  b = \", b)\n"
   ]
  },
  {
   "cell_type": "code",
   "execution_count": 57,
   "id": "2d4e5a54",
   "metadata": {},
   "outputs": [
    {
     "name": "stdout",
     "output_type": "stream",
     "text": [
      "greedy_linear fbar = 3460.0\n"
     ]
    }
   ],
   "source": [
    "X0, fbar = greedy_linear(c, Q, a, b)\n",
    "println(\"greedy_linear fbar = \", fbar)"
   ]
  },
  {
   "cell_type": "code",
   "execution_count": 58,
   "id": "9e1509f9",
   "metadata": {},
   "outputs": [
    {
     "name": "stdout",
     "output_type": "stream",
     "text": [
      "greedy_plus_oneflip fbar = 3460.0\n"
     ]
    }
   ],
   "source": [
    "X1, fbar1 = greedy_plus_oneflip(c, Q, a, b)\n",
    "println(\"greedy_plus_oneflip fbar = \", fbar1)"
   ]
  },
  {
   "cell_type": "code",
   "execution_count": 59,
   "id": "553da681",
   "metadata": {},
   "outputs": [
    {
     "name": "stdout",
     "output_type": "stream",
     "text": [
      "greedy_heuristic fbar = 5243.4\n"
     ]
    }
   ],
   "source": [
    "X_greedy, fbar_greedy = greedy_heuristic(c, Q, a, b)\n",
    "println(\"greedy_heuristic fbar = \", fbar_greedy)"
   ]
  },
  {
   "cell_type": "code",
   "execution_count": 60,
   "id": "9bc3bee2",
   "metadata": {},
   "outputs": [
    {
     "name": "stdout",
     "output_type": "stream",
     "text": [
      "Simulated Annealing fbar = 5243.4\n"
     ]
    }
   ],
   "source": [
    "X_sa, fbar_sa = simulated_annealing(c, Q, a, b, X_greedy)\n",
    "println(\"Simulated Annealing fbar = \", fbar_sa)"
   ]
  },
  {
   "cell_type": "code",
   "execution_count": 61,
   "id": "40822378",
   "metadata": {},
   "outputs": [
    {
     "data": {
      "text/plain": [
       "5210.0"
      ]
     },
     "metadata": {},
     "output_type": "display_data"
    }
   ],
   "source": [
    "ub = compute_first_ub(c, Q, a, b)"
   ]
  },
  {
   "cell_type": "code",
   "execution_count": 62,
   "id": "8c88b524",
   "metadata": {},
   "outputs": [
    {
     "data": {
      "text/plain": [
       "(Dict((10, 79) => 0.0, (13, 66) => 0.0, (17, 12) => 0.0, (19, 86) => 0.0, (9, 51) => 0.0, (19, 14) => 0.0, (9, 80) => 0.0, (16, 99) => 0.0, (19, 16) => 0.0, (12, 45) => 0.0…), Dict((19, 86) => 0.0, (65, 69) => 0.0, (9, 80) => 0.0, (16, 99) => 0.0, (26, 53) => 0.0, (30, 68) => 0.0, (48, 61) => 0.0, (36, 73) => 0.0, (73, 85) => 0.0, (64, 82) => 0.0…), 5169.2)"
      ]
     },
     "metadata": {},
     "output_type": "display_data"
    }
   ],
   "source": [
    "lamda_opt_m2, mu_opt_m2, dual_val_m2 = subgradient_solve_m2(\n",
    "    Q,       # Matrix{Float64}\n",
    "    c,     # Vector{Float64}\n",
    "    a,       # Vector{Float64}\n",
    "    b,       # Float64\n",
    "    cluster_size,\n",
    "    lambda_kj,\n",
    "    mu_ij;\n",
    "    maxiter = 50,\n",
    "    alpha0 = 1.0,\n",
    "    p      = 0.9\n",
    ")"
   ]
  },
  {
   "cell_type": "code",
   "execution_count": 63,
   "id": "5efd9209",
   "metadata": {},
   "outputs": [
    {
     "data": {
      "text/plain": [
       "(Dict((10, 79) => 0.0, (13, 66) => 0.0, (17, 12) => 0.0, (19, 86) => 0.0, (9, 51) => 0.0, (19, 14) => 0.0, (9, 80) => 0.0, (16, 99) => 0.0, (19, 16) => 0.0, (12, 45) => 0.0…), Dict((19, 86) => 0.0, (65, 69) => 0.0, (9, 80) => 0.0, (16, 99) => 0.0, (26, 53) => 0.0, (30, 68) => 0.0, (48, 61) => 0.0, (36, 73) => 0.0, (73, 85) => 0.0, (64, 82) => 0.0…), 5169.2)"
      ]
     },
     "metadata": {},
     "output_type": "display_data"
    }
   ],
   "source": [
    "lamda_opt_m3, mu_opt_m3, dual_val_m3 = subgradient_solve_m3(\n",
    "    Q,       # Matrix{Float64}\n",
    "    c,     # Vector{Float64}\n",
    "    a,       # Vector{Float64}\n",
    "    b,       # Float64\n",
    "    cluster_size,\n",
    "    lambda_kj,\n",
    "    mu_ij;\n",
    "    fbar = fbar_sa,\n",
    "    maxiter = 50,\n",
    "    p      = 0.9\n",
    ")\n",
    "\n"
   ]
  },
  {
   "cell_type": "code",
   "execution_count": 64,
   "id": "15bcc16d",
   "metadata": {},
   "outputs": [
    {
     "name": "stdout",
     "output_type": "stream",
     "text": [
      "Upper bound initiale: 5210.0\n",
      "Dual bound (méthode 2) = 5169.2\n",
      "Dual bound (méthode 3) = 5169.2\n"
     ]
    }
   ],
   "source": [
    "println(\"Upper bound initiale: \", ub)\n",
    "println(\"Dual bound (méthode 2) = \", dual_val_m2)\n",
    "println(\"Dual bound (méthode 3) = \", dual_val_m3)"
   ]
  },
  {
   "cell_type": "markdown",
   "id": "f25bb120",
   "metadata": {},
   "source": [
    "### Exemple 4: n = 10"
   ]
  },
  {
   "cell_type": "code",
   "execution_count": 66,
   "id": "e9e0f315",
   "metadata": {},
   "outputs": [
    {
     "data": {
      "text/plain": [
       "4.0"
      ]
     },
     "metadata": {},
     "output_type": "display_data"
    }
   ],
   "source": [
    "c = [1.0, 2.0 ,3.0 ,4.0 ,5.0 , 6.0 ,7.0 ,8.0 ,9.0 ,10.0]\n",
    "Q = zeros(10,10)\n",
    "Q[1,2] = Q[2,1] = 1\n",
    "Q[2,3] = Q[3,2] = 1\n",
    "Q[3,4] = Q[4,3] = 1\n",
    "Q[4,5] = Q[5,4] = 1\n",
    "Q[6,7] = Q[7,6] = 2\n",
    "Q[7,8] = Q[8,7] = 2\n",
    "Q[8,9] = Q[9,8] = 2\n",
    "Q[9,10]= Q[10,9]= 2\n",
    "\n",
    "a = fill(2.0, 10)\n",
    "cluster_size = 5\n",
    "\n",
    "# 2) Para cada cluster, elegimos las dos primeras variables y las ponemos a 1\n",
    "clusters = create_clusters(10, 5)\n",
    "for Ik in clusters\n",
    "    # por ejemplo, fijamos Ik[1] e Ik[2] a peso 1\n",
    "    a[ Ik[1] ] = 1\n",
    "    a[ Ik[2] ] = 1\n",
    "end\n",
    "\n",
    "\n",
    "b = 4.0\n",
    "\n",
    "cluster_of = Dict{Int,Int}()\n",
    "pos_in_cluster = Dict{Int,Int}()\n",
    "for (k, Ik) in enumerate(clusters)\n",
    "    for (pos, i) in enumerate(Ik)\n",
    "        cluster_of[i] = k\n",
    "        pos_in_cluster[i] = pos\n",
    "    end\n",
    "end\n",
    "\n",
    "lambda_kj = Dict{Tuple{Int,Int},Float64}()\n",
    "for (k, Ik) in enumerate(clusters)\n",
    "    for j in setdiff(1:length(c), Ik)\n",
    "        lambda_kj[(k,j)] = 0.0\n",
    "    end\n",
    "end\n",
    "\n",
    "# initialize mu_{i,j} = 0 for every cross-cluster i<j\n",
    "mu_ij = Dict{Tuple{Int,Int},Float64}()\n",
    "for i in 1:length(c)-1, j in i+1:length(c)\n",
    "    if cluster_of[i] != cluster_of[j]\n",
    "        mu_ij[(i,j)] = 0.0\n",
    "    end\n",
    "end\n",
    "b"
   ]
  },
  {
   "cell_type": "code",
   "execution_count": 32,
   "id": "42bca3ae",
   "metadata": {},
   "outputs": [
    {
     "name": "stdout",
     "output_type": "stream",
     "text": [
      "greedy_linear fbar = 25.0\n"
     ]
    }
   ],
   "source": [
    "X0, fbar = greedy_linear(c, Q, a, b)\n",
    "println(\"greedy_linear fbar = \", fbar)"
   ]
  },
  {
   "cell_type": "code",
   "execution_count": 33,
   "id": "eaf70989",
   "metadata": {},
   "outputs": [
    {
     "name": "stdout",
     "output_type": "stream",
     "text": [
      "greedy_plus_oneflip fbar = 25.0\n"
     ]
    }
   ],
   "source": [
    "X1, fbar1 = greedy_plus_oneflip(c, Q, a, b)\n",
    "println(\"greedy_plus_oneflip fbar = \", fbar1)"
   ]
  },
  {
   "cell_type": "code",
   "execution_count": 34,
   "id": "bb180e7d",
   "metadata": {},
   "outputs": [
    {
     "name": "stdout",
     "output_type": "stream",
     "text": [
      "greedy_heuristic fbar = 60.0\n"
     ]
    }
   ],
   "source": [
    "X_greedy, fbar_greedy = greedy_heuristic(c, Q, a, b)\n",
    "println(\"greedy_heuristic fbar = \", fbar_greedy)"
   ]
  },
  {
   "cell_type": "code",
   "execution_count": 35,
   "id": "b67ca465",
   "metadata": {},
   "outputs": [
    {
     "name": "stdout",
     "output_type": "stream",
     "text": [
      "Simulated Annealing fbar = 60.0\n"
     ]
    }
   ],
   "source": [
    "X_sa, fbar_sa = simulated_annealing(c, Q, a, b, X_greedy)\n",
    "println(\"Simulated Annealing fbar = \", fbar_sa)"
   ]
  },
  {
   "cell_type": "code",
   "execution_count": 36,
   "id": "0727d20b",
   "metadata": {},
   "outputs": [
    {
     "data": {
      "text/plain": [
       "35.0"
      ]
     },
     "metadata": {},
     "output_type": "display_data"
    }
   ],
   "source": [
    "ub = compute_first_ub(c, Q, a, b)"
   ]
  },
  {
   "cell_type": "code",
   "execution_count": 37,
   "id": "7a23f672",
   "metadata": {},
   "outputs": [
    {
     "data": {
      "text/plain": [
       "(Dict((2, 4) => 0.0, (2, 5) => 0.0, (1, 7) => 0.0, (1, 6) => 0.0, (1, 9) => 0.0, (2, 1) => 0.0, (2, 2) => 0.0, (1, 8) => 0.0, (2, 3) => 0.0, (1, 10) => 0.0…), Dict((1, 10) => 0.0, (3, 7) => 0.0, (4, 6) => 0.0, (3, 8) => 0.0, (5, 9) => 0.0, (2, 6) => 0.0, (3, 10) => 0.0, (4, 7) => 0.0, (1, 9) => 0.0, (5, 6) => 0.0…), 33.5)"
      ]
     },
     "metadata": {},
     "output_type": "display_data"
    }
   ],
   "source": [
    "lamda_opt_m2, mu_opt_m2, dual_val_m2 = subgradient_solve_m2(\n",
    "    Q,       # Matrix{Float64}\n",
    "    c,     # Vector{Float64}\n",
    "    a,       # Vector{Float64}\n",
    "    b,       # Float64\n",
    "    cluster_size,\n",
    "    lambda_kj,\n",
    "    mu_ij;\n",
    "    maxiter = 50,\n",
    "    alpha0 = 1.0,\n",
    "    p      = 0.9\n",
    ")"
   ]
  },
  {
   "cell_type": "code",
   "execution_count": 38,
   "id": "5a1bf651",
   "metadata": {},
   "outputs": [
    {
     "data": {
      "text/plain": [
       "(Dict((2, 4) => 0.0, (2, 5) => 0.0, (1, 7) => 0.0, (1, 6) => 0.0, (1, 9) => 0.0, (2, 1) => 0.0, (2, 2) => 0.0, (1, 8) => 0.0, (2, 3) => 0.0, (1, 10) => 0.0…), Dict((1, 10) => 0.0, (3, 7) => 0.0, (4, 6) => 0.0, (3, 8) => 0.0, (5, 9) => 0.0, (2, 6) => 0.0, (3, 10) => 0.0, (4, 7) => 0.0, (1, 9) => 0.0, (5, 6) => 0.0…), 33.5)"
      ]
     },
     "metadata": {},
     "output_type": "display_data"
    }
   ],
   "source": [
    "lamda_opt_m3, mu_opt_m3, dual_val_m3 = subgradient_solve_m3(\n",
    "    Q,       # Matrix{Float64}\n",
    "    c,     # Vector{Float64}\n",
    "    a,       # Vector{Float64}\n",
    "    b,       # Float64\n",
    "    cluster_size,\n",
    "    lambda_kj,\n",
    "    mu_ij;\n",
    "    fbar = fbar_sa,\n",
    "    maxiter = 50,\n",
    "    p      = 0.9\n",
    ")\n",
    "\n"
   ]
  },
  {
   "cell_type": "code",
   "execution_count": 39,
   "id": "36f41ecc",
   "metadata": {},
   "outputs": [
    {
     "name": "stdout",
     "output_type": "stream",
     "text": [
      "Upper bound initiale: 35.0\n",
      "Dual bound (méthode 2) = 33.5\n",
      "Dual bound (méthode 3) = 33.5\n"
     ]
    }
   ],
   "source": [
    "println(\"Upper bound initiale: \", ub)\n",
    "println(\"Dual bound (méthode 2) = \", dual_val_m2)\n",
    "println(\"Dual bound (méthode 3) = \", dual_val_m3)"
   ]
  },
  {
   "cell_type": "markdown",
   "id": "d2b79636",
   "metadata": {},
   "source": [
    "### Exemple 5: n = 30"
   ]
  },
  {
   "cell_type": "code",
   "execution_count": 40,
   "id": "e6740ee2",
   "metadata": {},
   "outputs": [
    {
     "name": "stdout",
     "output_type": "stream",
     "text": [
      "n            = 30\n",
      "cluster_size = 5\n",
      "b            = 19.200000000000003\n",
      "clusters     = [[1, 2, 3, 4, 5], [6, 7, 8, 9, 10], [11, 12, 13, 14, 15], [16, 17, 18, 19, 20], [21, 22, 23, 24, 25], [26, 27, 28, 29, 30]]\n",
      "c            = [1.0, 2.0, 3.0, 4.0, 5.0, 6.0, 7.0, 8.0, 9.0, 10.0, 11.0, 12.0, 13.0, 14.0, 15.0, 16.0, 17.0, 18.0, 19.0, 20.0, 21.0, 22.0, 23.0, 24.0, 25.0, 26.0, 27.0, 28.0, 29.0, 30.0]\n",
      "a            = [1.0, 1.0, 2.0, 2.0, 2.0, 1.0, 1.0, 2.0, 2.0, 2.0, 1.0, 1.0, 2.0, 2.0, 2.0, 1.0, 1.0, 2.0, 2.0, 2.0, 1.0, 1.0, 2.0, 2.0, 2.0, 1.0, 1.0, 2.0, 2.0, 2.0]\n"
     ]
    }
   ],
   "source": [
    "using Random\n",
    "\n",
    "# 1) Données du problème à 30 variables\n",
    "n = 30\n",
    "c = Float64.(1:n)            # [1.0, 2.0, …, 30.0]\n",
    "\n",
    "# 2) Matrice de couplages Q en « chaînes par blocs »\n",
    "Q = zeros(n, n)\n",
    "for i in 1:n-1\n",
    "    w = i ≤ 10  ? 1.0 :\n",
    "        i ≤ 20  ? 2.0 :\n",
    "                  3.0\n",
    "    Q[i, i+1] = w\n",
    "    Q[i+1, i] = w\n",
    "end\n",
    "# quelques croisements additionnels\n",
    "Q[5,15]  = Q[15,5]  = 0.5\n",
    "Q[10,20] = Q[20,10] = 0.7\n",
    "Q[12,25] = Q[25,12] = 1.2\n",
    "\n",
    "# 3) Poids a : tous à 2.0, puis on fixe 2 poids à 1 par cluster\n",
    "a = fill(2.0, n)\n",
    "cluster_size = 5\n",
    "\n",
    "# 4) Création des clusters et choix aléatoire de deux indices à poids=1\n",
    "clusters = create_clusters(n, cluster_size)\n",
    "for Ik in clusters\n",
    "    # por ejemplo, fijamos Ik[1] e Ik[2] a peso 1\n",
    "    a[ Ik[1] ] = 1\n",
    "    a[ Ik[2] ] = 1\n",
    "end\n",
    "\n",
    "# 5) Capacité b (par exemple 40% de la somme des a)\n",
    "b = 0.4 * sum(a)\n",
    "\n",
    "# 6) Tables de mapping pour les clusters\n",
    "cluster_of     = Dict{Int,Int}()\n",
    "pos_in_cluster = Dict{Int,Int}()\n",
    "for (k, Ik) in enumerate(clusters)\n",
    "    for (pos, i) in enumerate(Ik)\n",
    "        cluster_of[i]     = k\n",
    "        pos_in_cluster[i] = pos\n",
    "    end\n",
    "end\n",
    "\n",
    "# 7) Initialisation des multiplicateurs λ_{k,j}\n",
    "lambda_kj = Dict{Tuple{Int,Int},Float64}()\n",
    "for (k, Ik) in enumerate(clusters)\n",
    "    for j in setdiff(1:n, Ik)\n",
    "        lambda_kj[(k,j)] = 0.0\n",
    "    end\n",
    "end\n",
    "\n",
    "# 8) Initialisation des multiplicateurs μ_{i,j}\n",
    "mu_ij = Dict{Tuple{Int,Int},Float64}()\n",
    "for i in 1:n-1, j in i+1:n\n",
    "    if cluster_of[i] != cluster_of[j]\n",
    "        mu_ij[(i,j)] = 0.0\n",
    "    end\n",
    "end\n",
    "\n",
    "# 9) Affichage de l’instance\n",
    "println(\"n            = \", n)\n",
    "println(\"cluster_size = \", cluster_size)\n",
    "println(\"b            = \", b)\n",
    "println(\"clusters     = \", clusters)\n",
    "println(\"c            = \", c)\n",
    "println(\"a            = \", a)\n"
   ]
  },
  {
   "cell_type": "code",
   "execution_count": 41,
   "id": "7fcc589e",
   "metadata": {},
   "outputs": [
    {
     "name": "stdout",
     "output_type": "stream",
     "text": [
      "greedy_linear fbar = 330.2\n"
     ]
    }
   ],
   "source": [
    "X0, fbar = greedy_linear(c, Q, a, b)\n",
    "println(\"greedy_linear fbar = \", fbar)"
   ]
  },
  {
   "cell_type": "code",
   "execution_count": 42,
   "id": "359a072c",
   "metadata": {},
   "outputs": [
    {
     "name": "stdout",
     "output_type": "stream",
     "text": [
      "greedy_plus_oneflip fbar = 330.2\n"
     ]
    }
   ],
   "source": [
    "X1, fbar1 = greedy_plus_oneflip(c, Q, a, b)\n",
    "println(\"greedy_plus_oneflip fbar = \", fbar1)"
   ]
  },
  {
   "cell_type": "code",
   "execution_count": 43,
   "id": "49414b43",
   "metadata": {},
   "outputs": [
    {
     "name": "stdout",
     "output_type": "stream",
     "text": [
      "greedy_heuristic fbar = 520.4\n"
     ]
    }
   ],
   "source": [
    "X_greedy, fbar_greedy = greedy_heuristic(c, Q, a, b)\n",
    "println(\"greedy_heuristic fbar = \", fbar_greedy)"
   ]
  },
  {
   "cell_type": "code",
   "execution_count": 44,
   "id": "b9b2d765",
   "metadata": {},
   "outputs": [
    {
     "name": "stdout",
     "output_type": "stream",
     "text": [
      "Simulated Annealing fbar = 520.4\n"
     ]
    }
   ],
   "source": [
    "X_sa, fbar_sa = simulated_annealing(c, Q, a, b, X_greedy)\n",
    "println(\"Simulated Annealing fbar = \", fbar_sa)"
   ]
  },
  {
   "cell_type": "code",
   "execution_count": 49,
   "id": "f7b2b722",
   "metadata": {},
   "outputs": [
    {
     "data": {
      "text/plain": [
       "513.0"
      ]
     },
     "metadata": {},
     "output_type": "display_data"
    }
   ],
   "source": [
    "ub = compute_first_ub(c, Q, a, b)"
   ]
  },
  {
   "cell_type": "code",
   "execution_count": 46,
   "id": "c492dec0",
   "metadata": {},
   "outputs": [
    {
     "data": {
      "text/plain": [
       "(Dict((1, 28) => 0.0, (3, 23) => 0.0, (1, 12) => 0.0, (3, 29) => 0.0, (1, 15) => 0.0, (6, 21) => 0.0, (4, 6) => 0.0, (3, 28) => 0.0, (5, 5) => 0.0, (2, 22) => 0.0…), Dict((1, 28) => 0.0, (11, 17) => 0.0, (22, 28) => 0.0, (23, 27) => 0.0, (8, 15) => 0.0, (7, 18) => 0.0, (7, 24) => 0.0, (1, 9) => 0.0, (15, 23) => 0.0, (15, 29) => 0.0…), 500.4)"
      ]
     },
     "metadata": {},
     "output_type": "display_data"
    }
   ],
   "source": [
    "lamda_opt_m2, mu_opt_m2, dual_val_m2 = subgradient_solve_m2(\n",
    "    Q,       # Matrix{Float64}\n",
    "    c,     # Vector{Float64}\n",
    "    a,       # Vector{Float64}\n",
    "    b,       # Float64\n",
    "    cluster_size,\n",
    "    lambda_kj,\n",
    "    mu_ij;\n",
    "    maxiter = 50,\n",
    "    alpha0 = 1.0,\n",
    "    p      = 0.9\n",
    ")"
   ]
  },
  {
   "cell_type": "code",
   "execution_count": 47,
   "id": "5b955b5e",
   "metadata": {},
   "outputs": [
    {
     "data": {
      "text/plain": [
       "(Dict((1, 28) => 0.0, (3, 23) => 0.0, (1, 12) => 0.0, (3, 29) => 0.0, (1, 15) => 0.0, (6, 21) => 0.0, (4, 6) => 0.0, (3, 28) => 0.0, (5, 5) => 0.0, (2, 22) => 0.0…), Dict((1, 28) => 0.0, (11, 17) => 0.0, (22, 28) => 0.0, (23, 27) => 0.0, (8, 15) => 0.0, (7, 18) => 0.0, (7, 24) => 0.0, (1, 9) => 0.0, (15, 23) => 0.0, (15, 29) => 0.0…), 500.4)"
      ]
     },
     "metadata": {},
     "output_type": "display_data"
    }
   ],
   "source": [
    "lamda_opt_m3, mu_opt_m3, dual_val_m3 = subgradient_solve_m3(\n",
    "    Q,       # Matrix{Float64}\n",
    "    c,     # Vector{Float64}\n",
    "    a,       # Vector{Float64}\n",
    "    b,       # Float64\n",
    "    cluster_size,\n",
    "    lambda_kj,\n",
    "    mu_ij;\n",
    "    fbar = fbar_sa,\n",
    "    maxiter = 50,\n",
    "    p      = 0.9\n",
    ")\n",
    "\n"
   ]
  },
  {
   "cell_type": "code",
   "execution_count": 48,
   "id": "712ddef2",
   "metadata": {},
   "outputs": [
    {
     "name": "stdout",
     "output_type": "stream",
     "text": [
      "Upper bound initiale: 513.0\n",
      "Dual bound (méthode 2) = 500.4\n",
      "Dual bound (méthode 3) = 500.4\n"
     ]
    }
   ],
   "source": [
    "println(\"Upper bound initiale: \", ub)\n",
    "println(\"Dual bound (méthode 2) = \", dual_val_m2)\n",
    "println(\"Dual bound (méthode 3) = \", dual_val_m3)"
   ]
  },
  {
   "cell_type": "code",
   "execution_count": null,
   "id": "4aee816f",
   "metadata": {},
   "outputs": [],
   "source": []
  }
 ],
 "metadata": {
  "kernelspec": {
   "display_name": "Julia 1.10.3",
   "language": "julia",
   "name": "julia-1.10"
  },
  "language_info": {
   "file_extension": ".jl",
   "mimetype": "application/julia",
   "name": "julia",
   "version": "1.10.3"
  }
 },
 "nbformat": 4,
 "nbformat_minor": 5
}
